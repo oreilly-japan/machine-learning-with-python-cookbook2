{
 "cells": [
  {
   "cell_type": "markdown",
   "metadata": {},
   "source": [
    "# 11章　モデルの評価 \n",
    "## レシピ11.1　交差検証 \n"
   ]
  },
  {
   "cell_type": "code",
   "execution_count": null,
   "metadata": {},
   "outputs": [],
   "source": [
    "# ライブラリをロード\n",
    "from sklearn import datasets\n",
    "from sklearn import metrics\n",
    "from sklearn.model_selection import KFold, cross_val_score\n",
    "from sklearn.pipeline import make_pipeline\n",
    "from sklearn.linear_model import LogisticRegression\n",
    "from sklearn.preprocessing import StandardScaler\n",
    "\n",
    "# 数字データセットをロード\n",
    "digits = datasets.load_digits()\n",
    "\n",
    "# 特徴量行列を作成\n",
    "features = digits.data\n",
    "\n",
    "# ターゲットベクトルを作成\n",
    "target = digits.target\n",
    "\n",
    "# 標準化器を作成\n",
    "standardizer = StandardScaler()\n",
    "\n",
    "# ロジスティック回帰器を作成\n",
    "logit = LogisticRegression()\n",
    "\n",
    "# 標準化を行い、ロジスティック回帰を実行するパイプラインを作成\n",
    "pipeline = make_pipeline(standardizer, logit)\n",
    "\n",
    "# k-分割交差検証器を作成\n",
    "kf = KFold(n_splits=5, shuffle=True, random_state=0)\n",
    "\n",
    "# k-分割交差検証を実行\n",
    "cv_results = cross_val_score(pipeline,    # パイプライン\n",
    "                             features,    # 特徴量行列\n",
    "                             target,      # ターゲットベクトル\n",
    "                             cv=kf,       # 交差検証手法\n",
    "                             scoring=\"accuracy\", # スコア関数\n",
    "                             n_jobs=-1)   # すべてのCPUを利用\n",
    "\n",
    "# 平均値を計算\n",
    "cv_results.mean()\n"
   ]
  },
  {
   "cell_type": "code",
   "execution_count": null,
   "metadata": {},
   "outputs": [],
   "source": [
    "# 5回行った評価のスコアを表示\n",
    "cv_results"
   ]
  },
  {
   "cell_type": "code",
   "execution_count": null,
   "metadata": {},
   "outputs": [],
   "source": [
    "# ライブラリをロード\n",
    "from sklearn.model_selection import train_test_split\n",
    "\n",
    "# 訓練セットとテストセットに分割\n",
    "features_train, features_test, target_train, target_test = train_test_split(\n",
    "    features, target, test_size=0.1, random_state=1)\n",
    "\n",
    "# 標準化器を訓練セットだけで訓練\n",
    "standardizer.fit(features_train)\n",
    "\n",
    "# 訓練した標準化器を訓練セットとテストセットに適用\n",
    "features_train_std = standardizer.transform(features_train)\n",
    "features_test_std = standardizer.transform(features_test)"
   ]
  },
  {
   "cell_type": "code",
   "execution_count": null,
   "metadata": {},
   "outputs": [],
   "source": [
    "# パイプラインを作成\n",
    "pipeline = make_pipeline(standardizer, logit)\n",
    "\n",
    "# k-分割交差検証を実行\n",
    "cv_results = cross_val_score(pipeline, # パイプライン\n",
    "                             features, # 特徴量行列\n",
    "                             target,   # ターゲットベクトル\n",
    "                             cv=kf,    # 交差検証手法\n",
    "                             scoring=\"accuracy\", # スコア関数\n",
    "                             n_jobs=-1) # すべてのコアを利用"
   ]
  },
  {
   "cell_type": "markdown",
   "metadata": {},
   "source": [
    "## レシピ11.2　ベースライン回帰モデルの作成 \n"
   ]
  },
  {
   "cell_type": "code",
   "execution_count": null,
   "metadata": {},
   "outputs": [],
   "source": [
    "# ライブラリをロード\n",
    "from sklearn.datasets import load_wine\n",
    "from sklearn.dummy import DummyRegressor\n",
    "from sklearn.model_selection import train_test_split\n",
    "\n",
    "# データをロード\n",
    "wine = load_wine()\n",
    "\n",
    "# 特徴量を作成\n",
    "features, target = wine.data, wine.target\n",
    "\n",
    "# 訓練セットとテストセットに分割\n",
    "features_train, features_test, target_train, target_test = train_test_split(\n",
    "    features, target, random_state=0)\n",
    "\n",
    "# ダミー回帰器を作成\n",
    "dummy = DummyRegressor(strategy='mean')\n",
    "\n",
    "# ダミー回帰器を「訓練」\n",
    "dummy.fit(features_train, target_train)\n",
    "\n",
    "# R^2スコアを取得\n",
    "dummy.score(features_test, target_test)"
   ]
  },
  {
   "cell_type": "code",
   "execution_count": null,
   "metadata": {},
   "outputs": [],
   "source": [
    "# ライブラリをロード\n",
    "from sklearn.linear_model import LinearRegression\n",
    "\n",
    "# 単純な線形回帰モデルを訓練\n",
    "ols = LinearRegression()\n",
    "ols.fit(features_train, target_train)\n",
    "\n",
    "# R^2スコアを取得\n",
    "ols.score(features_test, target_test)"
   ]
  },
  {
   "cell_type": "code",
   "execution_count": null,
   "metadata": {},
   "outputs": [],
   "source": [
    "# 常に1と予測するダミー回帰モデルを作成\n",
    "clf = DummyRegressor(strategy='constant', constant=1)\n",
    "clf.fit(features_train, target_train)\n",
    "\n",
    "# スコアを評価\n",
    "clf.score(features_test, target_test)"
   ]
  },
  {
   "cell_type": "markdown",
   "metadata": {},
   "source": [
    "## レシピ11.3　ベースラインクラス分類モデルの作成 \n"
   ]
  },
  {
   "cell_type": "code",
   "execution_count": null,
   "metadata": {},
   "outputs": [],
   "source": [
    "# ライブラリをロード\n",
    "from sklearn.datasets import load_iris\n",
    "from sklearn.dummy import DummyClassifier\n",
    "from sklearn.model_selection import train_test_split\n",
    "\n",
    "# データをロード\n",
    "iris = load_iris()\n",
    "\n",
    "# ターゲットベクトルと特徴量行列を作成\n",
    "features, target = iris.data, iris.target\n",
    "\n",
    "# 訓練セットとテストセットに分割\n",
    "features_train, features_test, target_train, target_test = train_test_split(\n",
    "    features, target, random_state=0)\n",
    "\n",
    "# ダミークラス分類器を作成\n",
    "dummy = DummyClassifier(strategy='uniform', random_state=1)\n",
    "\n",
    "# モデルを「訓練」\n",
    "dummy.fit(features_train, target_train)\n",
    "\n",
    "# 精度スコアを計算\n",
    "dummy.score(features_test, target_test)"
   ]
  },
  {
   "cell_type": "code",
   "execution_count": null,
   "metadata": {},
   "outputs": [],
   "source": [
    "# ライブラリをロード\n",
    "from sklearn.ensemble import RandomForestClassifier\n",
    "\n",
    "# クラス分類器を作成\n",
    "classifier = RandomForestClassifier()\n",
    "\n",
    "# モデルを訓練\n",
    "classifier.fit(features_train, target_train)\n",
    "\n",
    "# 精度スコアを計算\n",
    "classifier.score(features_test, target_test)"
   ]
  },
  {
   "cell_type": "markdown",
   "metadata": {},
   "source": [
    "## レシピ11.4　2クラス分類器の評価 \n"
   ]
  },
  {
   "cell_type": "code",
   "execution_count": null,
   "metadata": {},
   "outputs": [],
   "source": [
    "# ライブラリをロード\n",
    "from sklearn.model_selection import cross_val_score\n",
    "from sklearn.linear_model import LogisticRegression\n",
    "from sklearn.datasets import make_classification\n",
    "\n",
    "# 特徴量行列とターゲットベクトルを作成\n",
    "X, y = make_classification(n_samples = 10000,\n",
    "                           n_features = 3,\n",
    "                           n_informative = 3,\n",
    "                           n_redundant = 0,\n",
    "                           n_classes = 2,\n",
    "                           random_state = 1)\n",
    "\n",
    "# ロジスティック回帰器を作成\n",
    "logit = LogisticRegression()\n",
    "\n",
    "# 精度をスコアとして交差検証\n",
    "cross_val_score(logit, X, y, scoring=\"accuracy\")"
   ]
  },
  {
   "cell_type": "code",
   "execution_count": null,
   "metadata": {},
   "outputs": [],
   "source": [
    "# 適合率（precision）を用いて交差検証\n",
    "cross_val_score(logit, X, y, scoring=\"precision\")"
   ]
  },
  {
   "cell_type": "code",
   "execution_count": null,
   "metadata": {},
   "outputs": [],
   "source": [
    "# 再現率（recall）を用いて交差検証\n",
    "cross_val_score(logit, X, y, scoring=\"recall\")"
   ]
  },
  {
   "cell_type": "code",
   "execution_count": null,
   "metadata": {},
   "outputs": [],
   "source": [
    "# F1を用いて交差検証\n",
    "cross_val_score(logit, X, y, scoring=\"f1\")"
   ]
  },
  {
   "cell_type": "code",
   "execution_count": null,
   "metadata": {},
   "outputs": [],
   "source": [
    "# ライブラリをロード\n",
    "from sklearn.model_selection import train_test_split\n",
    "from sklearn.metrics import accuracy_score\n",
    "\n",
    "# 訓練セットとテストセットに分割\n",
    "X_train, X_test, y_train, y_test = train_test_split(X,\n",
    "                                                    y,\n",
    "                                                    test_size=0.1,\n",
    "                                                    random_state=1)\n",
    "\n",
    "# テストターゲットベクトルに対して予測\n",
    "y_hat = logit.fit(X_train, y_train).predict(X_test)\n",
    "\n",
    "# 精度を計算\n",
    "accuracy_score(y_test, y_hat)"
   ]
  },
  {
   "cell_type": "markdown",
   "metadata": {},
   "source": [
    "## レシピ11.5　2クラス分類器閾値の評価 \n"
   ]
  },
  {
   "cell_type": "code",
   "execution_count": null,
   "metadata": {},
   "outputs": [],
   "source": [
    "# ライブラリをロード\n",
    "import matplotlib.pyplot as plt\n",
    "from sklearn.datasets import make_classification\n",
    "from sklearn.linear_model import LogisticRegression\n",
    "from sklearn.metrics import roc_curve, roc_auc_score\n",
    "from sklearn.model_selection import train_test_split\n",
    "\n",
    "# 特徴量行列とターゲットベクトルを作成\n",
    "features, target = make_classification(n_samples=10000,\n",
    "                                       n_features=10,\n",
    "                                       n_classes=2,\n",
    "                                       n_informative=3,\n",
    "                                       random_state=3)\n",
    "\n",
    "# 訓練セットとテストセットに分割\n",
    "features_train, features_test, target_train, target_test = train_test_split(\n",
    "    features, target, test_size=0.1, random_state=1)\n",
    "\n",
    "# クラス分類器の作成\n",
    "logit = LogisticRegression()\n",
    "\n",
    "# モデルの訓練\n",
    "logit.fit(features_train, target_train)\n",
    "\n",
    "# 予測確率の取得\n",
    "target_probabilities = logit.predict_proba(features_test)[:,1]\n",
    "\n",
    "# 真陽性率と偽陽性率を計算\n",
    "false_positive_rate, true_positive_rate, threshold = roc_curve(target_test,\n",
    "target_probabilities)\n",
    "\n",
    "# ROCカーブをプロット\n",
    "plt.title(\"Receiver Operating Characteristic\")\n",
    "plt.plot(false_positive_rate, true_positive_rate)\n",
    "plt.plot([0, 1], ls=\"--\")\n",
    "plt.plot([0, 0], [1, 0] , c=\".7\"), plt.plot([1, 1] , c=\".7\")\n",
    "plt.ylabel(\"True Positive Rate\")\n",
    "plt.xlabel(\"False Positive Rate\")\n",
    "plt.show()\n"
   ]
  },
  {
   "cell_type": "code",
   "execution_count": null,
   "metadata": {},
   "outputs": [],
   "source": [
    "# 予測確率の取得\n",
    "logit.predict_proba(features_test)[0:1]"
   ]
  },
  {
   "cell_type": "code",
   "execution_count": null,
   "metadata": {},
   "outputs": [],
   "source": [
    "logit.classes_"
   ]
  },
  {
   "cell_type": "code",
   "execution_count": null,
   "metadata": {},
   "outputs": [],
   "source": [
    "print(\"閾値:\", threshold[124])\n",
    "print(\"真陽性率:\", true_positive_rate[124])\n",
    "print(\"偽陽性率:\", false_positive_rate[124])"
   ]
  },
  {
   "cell_type": "code",
   "execution_count": null,
   "metadata": {},
   "outputs": [],
   "source": [
    "print(\"閾値:\", threshold[49])\n",
    "print(\"真陽性率:\", true_positive_rate[49])\n",
    "print(\"偽陽性率:\", false_positive_rate[49])"
   ]
  },
  {
   "cell_type": "code",
   "execution_count": null,
   "metadata": {},
   "outputs": [],
   "source": [
    "# AUC（カーブの下の面積）を計算\n",
    "roc_auc_score(target_test, target_probabilities)"
   ]
  },
  {
   "cell_type": "markdown",
   "metadata": {},
   "source": [
    "## レシピ11.6　多クラス分類器による予測の評価 \n"
   ]
  },
  {
   "cell_type": "code",
   "execution_count": null,
   "metadata": {},
   "outputs": [],
   "source": [
    "# ライブラリをロード\n",
    "from sklearn.model_selection import cross_val_score\n",
    "from sklearn.linear_model import LogisticRegression\n",
    "from sklearn.datasets import make_classification\n",
    "\n",
    "# ターゲットベクトルと特徴量行列を作成\n",
    "features, target = make_classification(n_samples = 10000,\n",
    "                                       n_features = 3,\n",
    "                                       n_informative = 3,\n",
    "                                       n_redundant = 0,\n",
    "                                       n_classes = 3,\n",
    "                                       random_state = 1)\n",
    "\n",
    "# ロジスティック回帰器を作成\n",
    "logit = LogisticRegression()\n",
    "\n",
    "# 精度を用いて交差検証\n",
    "cross_val_score(logit, features, target, scoring='accuracy')"
   ]
  },
  {
   "cell_type": "code",
   "execution_count": null,
   "metadata": {},
   "outputs": [],
   "source": [
    "# マクロ平均F1スコアを用いて交差検証\n",
    "cross_val_score(logit, features, target, scoring='f1_macro')"
   ]
  },
  {
   "cell_type": "markdown",
   "metadata": {},
   "source": [
    "## レシピ11.7　クラス分類器性能の可視化 \n"
   ]
  },
  {
   "cell_type": "code",
   "execution_count": null,
   "metadata": {},
   "outputs": [],
   "source": [
    "# ライブラリをロード\n",
    "import matplotlib.pyplot as plt\n",
    "import seaborn as sns\n",
    "from sklearn import datasets\n",
    "from sklearn.linear_model import LogisticRegression\n",
    "from sklearn.model_selection import train_test_split\n",
    "from sklearn.metrics import confusion_matrix\n",
    "import pandas as pd\n",
    "\n",
    "# データをロード\n",
    "iris = datasets.load_iris()\n",
    "\n",
    "# 特徴量行列を作成\n",
    "features = iris.data\n",
    "\n",
    "# ターゲットベクトルを作成\n",
    "target = iris.target\n",
    "\n",
    "# ターゲットクラス名のリストを作成\n",
    "class_names = iris.target_names\n",
    "\n",
    "# 訓練セットとテストセットに分割\n",
    "features_train, features_test, target_train, target_test = train_test_split(\n",
    "    features, target, random_state=2)\n",
    "\n",
    "# ロジスティック回帰器を作成\n",
    "classifier = LogisticRegression()\n",
    "\n",
    "# モデルを訓練して予測\n",
    "target_predicted = classifier.fit(features_train,\n",
    "target_train).predict(features_test)\n",
    "\n",
    "# 混同行列を作成\n",
    "matrix = confusion_matrix(target_test, target_predicted)\n",
    "\n",
    "# pandasのDataFrameを作成\n",
    "dataframe = pd.DataFrame(matrix, index=class_names, columns=class_names)\n",
    "\n",
    "# ヒートマップを作成\n",
    "sns.heatmap(dataframe, annot=True, cbar=None, cmap=\"Blues\")\n",
    "plt.title(\"Confusion Matrix\"), plt.tight_layout()\n",
    "plt.ylabel(\"True Class\"), plt.xlabel(\"Predicted Class\")\n",
    "plt.show()\n"
   ]
  },
  {
   "cell_type": "markdown",
   "metadata": {},
   "source": [
    "## レシピ11.8　回帰モデルの評価 \n"
   ]
  },
  {
   "cell_type": "code",
   "execution_count": null,
   "metadata": {},
   "outputs": [],
   "source": [
    "# ライブラリをロード\n",
    "from sklearn.datasets import make_regression\n",
    "from sklearn.model_selection import cross_val_score\n",
    "from sklearn.linear_model import LinearRegression\n",
    "\n",
    "# ターゲットベクトルと特徴量行列を作成\n",
    "features, target = make_regression(n_samples = 100,\n",
    "                                   n_features = 3,\n",
    "                                   n_informative = 3,\n",
    "                                   n_targets = 1,\n",
    "                                   noise = 50,\n",
    "                                   coef = False,\n",
    "                                   random_state = 1)\n",
    "\n",
    "# 線形回帰器を作成\n",
    "ols = LinearRegression()\n",
    "\n",
    "# MSE（の符号を反転したもの）を用いて線形回帰器を交差検証\n",
    "cross_val_score(ols, features, target, scoring='neg_mean_squared_error')"
   ]
  },
  {
   "cell_type": "code",
   "execution_count": null,
   "metadata": {},
   "outputs": [],
   "source": [
    "# R^2を用いて線形回帰器を交差検証\n",
    "cross_val_score(ols, features, target, scoring='r2')"
   ]
  },
  {
   "cell_type": "markdown",
   "metadata": {},
   "source": [
    "## レシピ11.9　クラスタリングモデルの評価 \n"
   ]
  },
  {
   "cell_type": "code",
   "execution_count": null,
   "metadata": {},
   "outputs": [],
   "source": [
    "# ライブラリをロード\n",
    "import numpy as np\n",
    "from sklearn.metrics import silhouette_score\n",
    "from sklearn import datasets\n",
    "from sklearn.cluster import KMeans\n",
    "from sklearn.datasets import make_blobs\n",
    "\n",
    "# 特徴量行列を作成\n",
    "features, _ = make_blobs(n_samples = 1000,\n",
    "                         n_features = 10,\n",
    "                         centers = 2,\n",
    "                         cluster_std = 0.5,\n",
    "                         shuffle = True,\n",
    "                         random_state = 1)\n",
    "\n",
    "# k-meansを用いてデータをクラスタリングしクラスを予想\n",
    "model = KMeans(n_clusters=2, random_state=1).fit(features)\n",
    "\n",
    "# 予想されたクラスを取得\n",
    "target_predicted = model.labels_\n",
    "\n",
    "# モデルを評価\n",
    "silhouette_score(features, target_predicted)"
   ]
  },
  {
   "cell_type": "markdown",
   "metadata": {},
   "source": [
    "## レシピ11.10　評価指標のカスタマイズ \n"
   ]
  },
  {
   "cell_type": "code",
   "execution_count": null,
   "metadata": {},
   "outputs": [],
   "source": [
    "# ライブラリをロード\n",
    "from sklearn.metrics import make_scorer, r2_score\n",
    "from sklearn.model_selection import train_test_split\n",
    "from sklearn.linear_model import Ridge\n",
    "from sklearn.datasets import make_regression\n",
    "\n",
    "# ターゲットベクトルと特徴量行列を作成\n",
    "features, target = make_regression(n_samples = 100,\n",
    "                                   n_features = 3,\n",
    "                                   random_state = 1)\n",
    "\n",
    "# 訓練セットとテストセットに分割\n",
    "features_train, features_test, target_train, target_test = train_test_split(\n",
    "    features, target, test_size=0.10, random_state=1)\n",
    "\n",
    "# 独自の評価指標関数を作成\n",
    "def custom_metric(target_test, target_predicted):\n",
    "    # R^2スコアを計算\n",
    "    r2 = r2_score(target_test, target_predicted)\n",
    "\n",
    "    # R^2スコアを返す\n",
    "    return r2\n",
    "\n",
    "# スコアが高いほうがよいと指定して、スコア付けオブジェクトを作成\n",
    "score = make_scorer(custom_metric, greater_is_better=True)\n",
    "\n",
    "# リッジ回帰器を作成\n",
    "classifier = Ridge()\n",
    "\n",
    "# リッジ回帰モデルを訓練\n",
    "model = classifier.fit(features_train, target_train)\n",
    "\n",
    "# 独自のスコア関数を適用\n",
    "score(model, features_test, target_test)"
   ]
  },
  {
   "cell_type": "code",
   "execution_count": null,
   "metadata": {},
   "outputs": [],
   "source": [
    "# 値の予測\n",
    "target_predicted = model.predict(features_test)\n",
    "\n",
    "# R^2スコアの計算\n",
    "r2_score(target_test, target_predicted)"
   ]
  },
  {
   "cell_type": "markdown",
   "metadata": {},
   "source": [
    "## レシピ11.11　訓練セットサイズによる影響の可視化 \n"
   ]
  },
  {
   "cell_type": "code",
   "execution_count": null,
   "metadata": {},
   "outputs": [],
   "source": [
    "# ライブラリをロード\n",
    "import numpy as np\n",
    "import matplotlib.pyplot as plt\n",
    "from sklearn.ensemble import RandomForestClassifier\n",
    "from sklearn.datasets import load_digits\n",
    "from sklearn.model_selection import learning_curve\n",
    "\n",
    "# データをロード\n",
    "digits = load_digits()\n",
    "\n",
    "# 特徴量行列とターゲットベクトルを作成\n",
    "features, target = digits.data, digits.target\n",
    "\n",
    "# 訓練セットサイズを変更しながら交差検証を用いた訓練を行い、スコアを取得\n",
    "train_sizes, train_scores, test_scores = \\\n",
    "    learning_curve(RandomForestClassifier(), # クラス分類器\n",
    "                   features,                 # 特徴量行列\n",
    "                   target,                   # ターゲットベクトル\n",
    "                   cv=10,                    # 分割数\n",
    "                   scoring='accuracy',       # 性能評価指標\n",
    "                   n_jobs=-1,                # すべてのコアを利用\n",
    "                   train_sizes=np.linspace(0.01, 1.0, 50))\n",
    "                                             # 訓練セットのサイズを50通りに設定\n",
    "                                                        \n",
    "# 訓練セットスコアの平均と分散を計算                                                                                                            \n",
    "train_mean = np.mean(train_scores, axis=1)\n",
    "train_std = np.std(train_scores, axis=1)\n",
    "\n",
    "# テストセットスコアの平均と分散を計算\n",
    "test_mean = np.mean(test_scores, axis=1)\n",
    "test_std = np.std(test_scores, axis=1)\n",
    "\n",
    "# 線を描画\n",
    "plt.plot(train_sizes, train_mean, '--', color=\"#111111\", label=\"Training score\")\n",
    "plt.plot(train_sizes, test_mean, color=\"#111111\", label=\"Cross-validation score\")\n",
    "\n",
    "# 帯領域を描画\n",
    "plt.fill_between(train_sizes, train_mean - train_std,\n",
    "                 train_mean + train_std, color=\"#DDDDDD\")\n",
    "plt.fill_between(train_sizes, test_mean - test_std,\n",
    "                 test_mean + test_std, color=\"#DDDDDD\")\n",
    "\n",
    "# プロットを作成\n",
    "plt.title(\"Learning Curve\")\n",
    "plt.xlabel(\"Training Set Size\"), plt.ylabel(\"Accuracy Score\"),\n",
    "plt.legend(loc=\"best\")\n",
    "plt.tight_layout()\n",
    "plt.show()\n"
   ]
  },
  {
   "cell_type": "markdown",
   "metadata": {},
   "source": [
    "## レシピ11.12　評価指標に関するテキストレポートの生成 \n"
   ]
  },
  {
   "cell_type": "code",
   "execution_count": null,
   "metadata": {},
   "outputs": [],
   "source": [
    "# ライブラリをロード\n",
    "from sklearn import datasets\n",
    "from sklearn.linear_model import LogisticRegression\n",
    "from sklearn.model_selection import train_test_split\n",
    "from sklearn.metrics import classification_report\n",
    "\n",
    "# データをロード\n",
    "iris = datasets.load_iris()\n",
    "\n",
    "# 特徴量行列を作成\n",
    "features = iris.data\n",
    "\n",
    "# ターゲットベクトルを作成\n",
    "target = iris.target\n",
    "\n",
    "# ターゲットクラス名のリストを作成\n",
    "class_names = iris.target_names\n",
    "\n",
    "# 訓練セットとテストセットに分割\n",
    "features_train, features_test, target_train, target_test = train_test_split(\n",
    "    features, target, random_state=0)\n",
    "\n",
    "# ロジスティック回帰器を作成\n",
    "classifier = LogisticRegression()\n",
    "\n",
    "# モデルを訓練して予測\n",
    "model = classifier.fit(features_train, target_train)\n",
    "target_predicted = model.predict(features_test)\n",
    "\n",
    "# クラス分類レポートを作成\n",
    "print(classification_report(target_test,\n",
    "                            target_predicted,\n",
    "                            target_names=class_names))"
   ]
  },
  {
   "cell_type": "markdown",
   "metadata": {},
   "source": [
    "## レシピ11.13　ハイパーパラメータの効果の可視化 \n"
   ]
  },
  {
   "cell_type": "code",
   "execution_count": null,
   "metadata": {},
   "outputs": [],
   "source": [
    "# ライブラリをロード\n",
    "import matplotlib.pyplot as plt\n",
    "import numpy as np\n",
    "from sklearn.datasets import load_digits\n",
    "from sklearn.ensemble import RandomForestClassifier\n",
    "from sklearn.model_selection import validation_curve\n",
    "\n",
    "# データをロード\n",
    "digits = load_digits()\n",
    "\n",
    "# 特徴量行列とターゲットベクトルを生成\n",
    "features, target = digits.data, digits.target\n",
    "\n",
    "# パラメータ値の範囲を指定\n",
    "param_range = np.arange(1, 250, 2)\n",
    "\n",
    "# 指定したパラメータの範囲の範囲に対して、訓練精度とテスト精度を計算\n",
    "train_scores, test_scores = validation_curve(\n",
    "    RandomForestClassifier(),  # クラス分類器\n",
    "    features,                  # 特徴量行列\n",
    "    target,                    # ターゲットベクトル\n",
    "    param_name=\"n_estimators\", # 変更するハイパーパラメータ\n",
    "    param_range=param_range,   # ハイパーパラメータ値の範囲\n",
    "    cv=3,                      # 交差検証の分割数\n",
    "    scoring=\"accuracy\",        # 性能評価指標\n",
    "    n_jobs=-1)                 # すべてのコアを利用\n",
    "\n",
    "# 訓練セットスコアの平均と標準偏差を算出\n",
    "train_mean = np.mean(train_scores, axis=1)\n",
    "train_std = np.std(train_scores, axis=1)\n",
    "\n",
    "# テストセットスコアの平均と標準偏差を算出\n",
    "test_mean = np.mean(test_scores, axis=1)\n",
    "test_std = np.std(test_scores, axis=1)\n",
    "\n",
    "# 訓練セットとテストセットの平均精度スコアをプロット\n",
    "plt.plot(param_range, train_mean, label=\"Training score\", color=\"black\")\n",
    "plt.plot(param_range, test_mean, label=\"Cross-validation score\", color=\"dimgrey\")\n",
    "\n",
    "# 訓練セットとテストセットの精度帯をプロット\n",
    "plt.fill_between(param_range, train_mean - train_std,\n",
    "                 train_mean + train_std, color=\"gray\")\n",
    "plt.fill_between(param_range, test_mean - test_std,\n",
    "                 test_mean + test_std, color=\"gainsboro\")\n",
    "\n",
    "# プロットを作成\n",
    "plt.title(\"Validation Curve With Random Forest\")\n",
    "plt.xlabel(\"Number Of Trees\")\n",
    "plt.ylabel(\"Accuracy Score\")\n",
    "plt.tight_layout()\n",
    "plt.legend(loc=\"best\")\n",
    "plt.show()\n"
   ]
  },
  {
   "cell_type": "code",
   "execution_count": null,
   "metadata": {},
   "outputs": [],
   "source": []
  }
 ],
 "metadata": {
  "kernelspec": {
   "display_name": "base",
   "language": "python",
   "name": "python3"
  },
  "language_info": {
   "codemirror_mode": {
    "name": "ipython",
    "version": 3
   },
   "file_extension": ".py",
   "mimetype": "text/x-python",
   "name": "python",
   "nbconvert_exporter": "python",
   "pygments_lexer": "ipython3",
   "version": "3.11.7"
  }
 },
 "nbformat": 4,
 "nbformat_minor": 2
}
