{
 "cells": [
  {
   "cell_type": "markdown",
   "metadata": {},
   "source": [
    "# 13章　線形回帰 \n",
    "## レシピ13.1　直線によるフィッティング \n"
   ]
  },
  {
   "cell_type": "code",
   "execution_count": null,
   "metadata": {},
   "outputs": [],
   "source": [
    "# ライブラリをロード\n",
    "from sklearn.linear_model import LinearRegression\n",
    "from sklearn.datasets import make_regression\n",
    "\n",
    "# 特徴量行列とターゲットベクトルを作成\n",
    "features, target = make_regression(n_samples = 100,\n",
    "                                   n_features = 3,\n",
    "                                   n_informative = 2,\n",
    "                                   n_targets = 1,\n",
    "                                   noise = 0.2,\n",
    "                                   coef = False,\n",
    "                                   random_state = 1)\n",
    "# 線形回帰器を作成\n",
    "regression = LinearRegression()\n",
    "\n",
    "# 線形回帰器を訓練\n",
    "model = regression.fit(features, target)"
   ]
  },
  {
   "cell_type": "code",
   "execution_count": null,
   "metadata": {},
   "outputs": [],
   "source": [
    "# 切片（intercept）を表示\n",
    "model.intercept_"
   ]
  },
  {
   "cell_type": "code",
   "execution_count": null,
   "metadata": {},
   "outputs": [],
   "source": [
    "# 特徴量の係数（coefficient）を表示\n",
    "model.coef_"
   ]
  },
  {
   "cell_type": "code",
   "execution_count": null,
   "metadata": {},
   "outputs": [],
   "source": [
    "# ターゲットベクトルの最初の値\n",
    "target[0]"
   ]
  },
  {
   "cell_type": "code",
   "execution_count": null,
   "metadata": {},
   "outputs": [],
   "source": [
    "# 最初の観測値に対するターゲットの予測値\n",
    "model.predict(features)[0]"
   ]
  },
  {
   "cell_type": "code",
   "execution_count": null,
   "metadata": {},
   "outputs": [],
   "source": [
    "# 訓練データに対するモデルのスコアを表示\n",
    "print(model.score(features, target))"
   ]
  },
  {
   "cell_type": "markdown",
   "metadata": {},
   "source": [
    "## レシピ13.2　交互作用の影響の取り扱い \n"
   ]
  },
  {
   "cell_type": "code",
   "execution_count": null,
   "metadata": {},
   "outputs": [],
   "source": [
    "# ライブラリをロード\n",
    "from sklearn.linear_model import LinearRegression\n",
    "from sklearn.preprocessing import PolynomialFeatures\n",
    "from sklearn.datasets import make_regression\n",
    "\n",
    "# データをロードし、特徴量を2つに制限\n",
    "features, target = make_regression(n_samples = 100,\n",
    "                                   n_features = 2,\n",
    "                                   n_informative = 2,\n",
    "                                   n_targets = 1,\n",
    "                                   noise = 0.2,\n",
    "                                   coef = False,\n",
    "                                   random_state = 1)\n",
    "\n",
    "# 交互作用の項を作成\n",
    "interaction = PolynomialFeatures(\n",
    "    degree=3, include_bias=False, interaction_only=True)\n",
    "features_interaction = interaction.fit_transform(features)\n",
    "\n",
    "# 線形回帰器を作成\n",
    "regression = LinearRegression()\n",
    "\n",
    "# 線形回帰器を訓練\n",
    "model = regression.fit(features_interaction, target)"
   ]
  },
  {
   "cell_type": "code",
   "execution_count": null,
   "metadata": {},
   "outputs": [],
   "source": [
    "# 最初の観測値の特徴量の値を表示\n",
    "features[0]"
   ]
  },
  {
   "cell_type": "code",
   "execution_count": null,
   "metadata": {},
   "outputs": [],
   "source": [
    "# ライブラリをロード\n",
    "import numpy as np\n",
    "\n",
    "# 個々の観測値に対して、最初の特徴量値と2つ目の特徴量値を掛け合わせる\n",
    "interaction_term = np.multiply(features[:, 0], features[:, 1])"
   ]
  },
  {
   "cell_type": "code",
   "execution_count": null,
   "metadata": {},
   "outputs": [],
   "source": [
    "# 最初の観測値の交互作用項を表示\n",
    "interaction_term[0]"
   ]
  },
  {
   "cell_type": "code",
   "execution_count": null,
   "metadata": {},
   "outputs": [],
   "source": [
    "# 最初の観測値の値を表示\n",
    "features_interaction[0]"
   ]
  },
  {
   "cell_type": "markdown",
   "metadata": {},
   "source": [
    "## レシピ13.3　非線形な関係の学習 \n"
   ]
  },
  {
   "cell_type": "code",
   "execution_count": null,
   "metadata": {},
   "outputs": [],
   "source": [
    "# ライブラリをロード\n",
    "from sklearn.linear_model import LinearRegression\n",
    "from sklearn.preprocessing import PolynomialFeatures\n",
    "from sklearn.datasets import make_regression\n",
    "\n",
    "# データをロードして特徴量を1つだけ残す\n",
    "features, target = make_regression(n_samples = 100,\n",
    "                                   n_features = 1,\n",
    "                                   n_informative = 2,\n",
    "                                   n_targets = 1,\n",
    "                                   noise = 0.2,\n",
    "                                   coef = False,\n",
    "                                   random_state = 1)\n",
    "\n",
    "# 多項式特徴量x^2とx^3を作成\n",
    "polynomial = PolynomialFeatures(degree=3, include_bias=False)\n",
    "features_polynomial = polynomial.fit_transform(features)\n",
    "\n",
    "# 線形回帰器を作成\n",
    "regression = LinearRegression()\n",
    "\n",
    "# 線形回帰器を訓練\n",
    "model = regression.fit(features_polynomial, target)\n"
   ]
  },
  {
   "cell_type": "code",
   "execution_count": null,
   "metadata": {},
   "outputs": [],
   "source": [
    "# 最初の観測値を表示\n",
    "features[0]"
   ]
  },
  {
   "cell_type": "code",
   "execution_count": null,
   "metadata": {},
   "outputs": [],
   "source": [
    "# 最初の観測値を2乗して得たx^2を表示\n",
    "features[0]**2"
   ]
  },
  {
   "cell_type": "code",
   "execution_count": null,
   "metadata": {},
   "outputs": [],
   "source": [
    "# 最初の観測値を3乗して得たx^3を表示\n",
    "features[0]**3"
   ]
  },
  {
   "cell_type": "code",
   "execution_count": null,
   "metadata": {},
   "outputs": [],
   "source": [
    "# 最初の観測値のx、x^2、x^3の値を表示\n",
    "features_polynomial[0]"
   ]
  },
  {
   "cell_type": "markdown",
   "metadata": {},
   "source": [
    "## レシピ13.4　正則化によるバリアンスの低減 \n"
   ]
  },
  {
   "cell_type": "code",
   "execution_count": null,
   "metadata": {},
   "outputs": [],
   "source": [
    "# ライブラリをロード\n",
    "from sklearn.linear_model import Ridge\n",
    "from sklearn.preprocessing import StandardScaler\n",
    "from sklearn.datasets import make_regression\n",
    "\n",
    "# 特徴量行列とターゲットベクトルを作成\n",
    "features, target = make_regression(n_samples = 100,\n",
    "                                   n_features = 3,\n",
    "                                   n_informative = 2,\n",
    "                                   n_targets = 1,\n",
    "                                   noise = 0.2,\n",
    "                                   coef = False,\n",
    "                                   random_state = 1)\n",
    "\n",
    "# 特徴量を標準化\n",
    "scaler = StandardScaler()\n",
    "features_standardized = scaler.fit_transform(features)\n",
    "\n",
    "# alphaを指定してリッジ回帰器を作成\n",
    "regression = Ridge(alpha=0.5)\n",
    "\n",
    "# リッジ回帰を訓練\n",
    "model = regression.fit(features_standardized, target)"
   ]
  },
  {
   "cell_type": "code",
   "execution_count": null,
   "metadata": {},
   "outputs": [],
   "source": [
    "# ライブラリをロード\n",
    "from sklearn.linear_model import RidgeCV\n",
    "\n",
    "# 3つのalpha値を指定してリッジ回帰器を作成\n",
    "regr_cv = RidgeCV(alphas=[0.1, 1.0, 10.0])\n",
    "\n",
    "# リッジ回帰器を訓練\n",
    "model_cv = regr_cv.fit(features_standardized, target)\n",
    "\n",
    "# 係数を表示\n",
    "model_cv.coef_"
   ]
  },
  {
   "cell_type": "code",
   "execution_count": null,
   "metadata": {},
   "outputs": [],
   "source": [
    "# alphaを表示\n",
    "model_cv.alpha_"
   ]
  },
  {
   "cell_type": "markdown",
   "metadata": {},
   "source": [
    "## レシピ13.5　Lasso回帰による特徴量削減 \n"
   ]
  },
  {
   "cell_type": "code",
   "execution_count": null,
   "metadata": {},
   "outputs": [],
   "source": [
    "# ライブラリをロード\n",
    "from sklearn.linear_model import Lasso\n",
    "from sklearn.preprocessing import StandardScaler\n",
    "from sklearn.datasets import make_regression\n",
    "\n",
    "# 特徴量行列とターゲットベクトルを作成\n",
    "features, target = make_regression(n_samples = 100,\n",
    "                                   n_features = 3,\n",
    "                                   n_informative = 2,\n",
    "                                   n_targets = 1,\n",
    "                                   noise = 0.2,\n",
    "                                   coef = False,\n",
    "                                   random_state = 1)\n",
    "\n",
    "# 特徴量を標準化\n",
    "scaler = StandardScaler()\n",
    "features_standardized = scaler.fit_transform(features)\n",
    "\n",
    "# alphaを指定してLasso回帰器を作成\n",
    "regression = Lasso(alpha=0.5)\n",
    "\n",
    "# Lasso回帰器を訓練\n",
    "model = regression.fit(features_standardized, target)\n"
   ]
  },
  {
   "cell_type": "code",
   "execution_count": null,
   "metadata": {},
   "outputs": [],
   "source": [
    "# 係数を表示\n",
    "model.coef_"
   ]
  },
  {
   "cell_type": "code",
   "execution_count": null,
   "metadata": {},
   "outputs": [],
   "source": [
    "# alphaを大きくしてLasso回帰器を作成\n",
    "regression_a10 = Lasso(alpha=10)\n",
    "model_a10 = regression_a10.fit(features_standardized, target)\n",
    "model_a10.coef_"
   ]
  },
  {
   "cell_type": "code",
   "execution_count": null,
   "metadata": {},
   "outputs": [],
   "source": []
  }
 ],
 "metadata": {
  "kernelspec": {
   "display_name": "base",
   "language": "python",
   "name": "python3"
  },
  "language_info": {
   "codemirror_mode": {
    "name": "ipython",
    "version": 3
   },
   "file_extension": ".py",
   "mimetype": "text/x-python",
   "name": "python",
   "nbconvert_exporter": "python",
   "pygments_lexer": "ipython3",
   "version": "3.11.7"
  }
 },
 "nbformat": 4,
 "nbformat_minor": 2
}
