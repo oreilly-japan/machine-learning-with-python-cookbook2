{
 "cells": [
  {
   "cell_type": "markdown",
   "metadata": {},
   "source": [
    "# 18章　ナイーブベイズ "
   ]
  },
  {
   "cell_type": "markdown",
   "metadata": {},
   "source": [
    "## レシピ18.1　連続値特徴量に対するクラス分類器の訓練 \n"
   ]
  },
  {
   "cell_type": "code",
   "execution_count": null,
   "metadata": {},
   "outputs": [],
   "source": [
    "# ライブラリをロード\n",
    "from sklearn import datasets\n",
    "from sklearn.naive_bayes import GaussianNB\n",
    "\n",
    "# データをロード\n",
    "iris = datasets.load_iris()\n",
    "features = iris.data\n",
    "target = iris.target\n",
    "\n",
    "# ガウシアンナイーブベイズクラス分類器を作成\n",
    "classifer = GaussianNB()\n",
    "\n",
    "# ガウシアンナイーブベイズクラス分類器を訓練\n",
    "model = classifer.fit(features, target)"
   ]
  },
  {
   "cell_type": "code",
   "execution_count": null,
   "metadata": {},
   "outputs": [],
   "source": [
    "# 新たな観測値を作成\n",
    "new_observation = [[ 4, 4, 4, 0.4]]\n",
    "\n",
    "# クラスを予測\n",
    "model.predict(new_observation)"
   ]
  },
  {
   "cell_type": "code",
   "execution_count": null,
   "metadata": {},
   "outputs": [],
   "source": [
    "# ガウシアンナイーブベイズクラス分類器を、個々のクラスの\n",
    "# 確率を指定して作成\n",
    "clf = GaussianNB(priors=[0.25, 0.25, 0.5])\n",
    "\n",
    "# ガウシアンナイーブベイズクラス分類器を訓練\n",
    "model = classifer.fit(features, target)"
   ]
  },
  {
   "cell_type": "markdown",
   "metadata": {},
   "source": [
    "## レシピ18.2　離散値特徴量とカウント特徴量に対するクラス分類器の訓練 \n"
   ]
  },
  {
   "cell_type": "code",
   "execution_count": null,
   "metadata": {},
   "outputs": [],
   "source": [
    "# ライブラリをロード\n",
    "import numpy as np\n",
    "from sklearn.naive_bayes import MultinomialNB\n",
    "from sklearn.feature_extraction.text import CountVectorizer\n",
    "\n",
    "# テキストを生成\n",
    "text_data = np.array(['I love Brazil. Brazil!',\n",
    "                      'Brazil is best',\n",
    "                      'Germany beats both'])\n",
    "\n",
    "# BoW特徴量を作成\n",
    "count = CountVectorizer()\n",
    "bag_of_words = count.fit_transform(text_data)\n",
    "\n",
    "# 特徴量行列を作成\n",
    "features = bag_of_words.toarray()\n",
    "\n",
    "# ターゲットベクトルを作成\n",
    "target = np.array([0,0,1])\n",
    "\n",
    "# 事前確率を設定して、多項ナイーブベイズクラス分類器を作成\n",
    "classifer = MultinomialNB(class_prior=[0.25, 0.5])\n",
    "\n",
    "# 多項ナイーブベイズクラス分類器を訓練\n",
    "model = classifer.fit(features, target)"
   ]
  },
  {
   "cell_type": "code",
   "execution_count": null,
   "metadata": {},
   "outputs": [],
   "source": [
    "# 新たな観測値を作成\n",
    "new_observation = [[0, 0, 0, 1, 0, 1, 0]]\n",
    "\n",
    "# 新たな観測値のクラスを予測\n",
    "model.predict(new_observation)"
   ]
  },
  {
   "cell_type": "markdown",
   "metadata": {},
   "source": [
    "## レシピ18.3　2クラス特徴量に対するナイーブベイズクラス分類器の訓練\n"
   ]
  },
  {
   "cell_type": "code",
   "execution_count": null,
   "metadata": {},
   "outputs": [],
   "source": [
    "# ライブラリをロード\n",
    "import numpy as np\n",
    "from sklearn.naive_bayes import BernoulliNB\n",
    "\n",
    "# 2値特徴量を作成\n",
    "features = np.random.randint(2, size=(100, 3))\n",
    "\n",
    "# 2値ターゲットベクトルを作成\n",
    "target = np.random.randint(2, size=(100, 1)).ravel()\n",
    "\n",
    "# 事前確率を指定してベルヌーイナイーブベイズクラス分類器を作成\n",
    "classifer = BernoulliNB(class_prior=[0.25, 0.5])\n",
    "\n",
    "# ベルヌーイナイーブベイズクラス分類器を訓練\n",
    "model = classifer.fit(features, target)"
   ]
  },
  {
   "cell_type": "code",
   "execution_count": null,
   "metadata": {},
   "outputs": [],
   "source": [
    "model_uniform_prior = BernoulliNB(class_prior=None, fit_prior=False)"
   ]
  },
  {
   "cell_type": "markdown",
   "metadata": {},
   "source": [
    "## レシピ18.4　予測確率の較正 \n"
   ]
  },
  {
   "cell_type": "code",
   "execution_count": null,
   "metadata": {},
   "outputs": [],
   "source": [
    "# ライブラリをロード\n",
    "from sklearn import datasets\n",
    "from sklearn.naive_bayes import GaussianNB\n",
    "from sklearn.calibration import CalibratedClassifierCV\n",
    "\n",
    "# データをロード\n",
    "iris = datasets.load_iris()\n",
    "features = iris.data\n",
    "target = iris.target\n",
    "\n",
    "# ガウシアンナイーブベイズクラス分類器を作成\n",
    "classifer = GaussianNB()\n",
    "\n",
    "# シグモイド較正を指定して、交差検証較正クラス分類器を作成\n",
    "classifer_sigmoid = CalibratedClassifierCV(classifer, cv=2, method='sigmoid')\n",
    "\n",
    "# 予測確率を較正\n",
    "classifer_sigmoid.fit(features, target)\n",
    "\n",
    "# 新たな観測値を作成\n",
    "new_observation = [[ 2.6, 2.6, 2.6, 0.4]]\n",
    "\n",
    "# 較正済みの予測確率を表示\n",
    "classifer_sigmoid.predict_proba(new_observation)"
   ]
  },
  {
   "cell_type": "code",
   "execution_count": null,
   "metadata": {},
   "outputs": [],
   "source": [
    "# ガウシアンナイーブベイズを訓練して予測確率を算出\n",
    "classifer.fit(features, target).predict_proba(new_observation)\n"
   ]
  },
  {
   "cell_type": "code",
   "execution_count": null,
   "metadata": {},
   "outputs": [],
   "source": [
    "# 較正後の予測確率を表示\n",
    "classifer_sigmoid.predict_proba(new_observation)"
   ]
  }
 ],
 "metadata": {
  "kernelspec": {
   "display_name": "base",
   "language": "python",
   "name": "python3"
  },
  "language_info": {
   "codemirror_mode": {
    "name": "ipython",
    "version": 3
   },
   "file_extension": ".py",
   "mimetype": "text/x-python",
   "name": "python",
   "nbconvert_exporter": "python",
   "pygments_lexer": "ipython3",
   "version": "3.11.7"
  }
 },
 "nbformat": 4,
 "nbformat_minor": 2
}
