{
 "cells": [
  {
   "cell_type": "markdown",
   "metadata": {},
   "source": [
    "# 23章　訓練済みモデルのセーブとロード "
   ]
  },
  {
   "cell_type": "markdown",
   "metadata": {},
   "source": [
    "## レシピ23.1　scikit-learnモデルのセーブとロード \n"
   ]
  },
  {
   "cell_type": "code",
   "execution_count": null,
   "metadata": {},
   "outputs": [],
   "source": [
    "# ライブラリをロード\n",
    "import joblib\n",
    "from sklearn.ensemble import RandomForestClassifier\n",
    "from sklearn import datasets\n",
    "\n",
    "# データをロード\n",
    "iris = datasets.load_iris()\n",
    "features = iris.data\n",
    "target = iris.target\n",
    "\n",
    "# ランダムフォレストクラス分類器を作成\n",
    "classifer = RandomForestClassifier()\n",
    "\n",
    "# モデルを訓練\n",
    "model = classifer.fit(features, target)\n",
    "\n",
    "# pickleファイルとしてセーブ\n",
    "joblib.dump(model, \"model.pkl\")"
   ]
  },
  {
   "cell_type": "code",
   "execution_count": null,
   "metadata": {},
   "outputs": [],
   "source": [
    "# モデルをファイルからロード\n",
    "classifer = joblib.load(\"model.pkl\")\n",
    "\n",
    "# 新たな観測値を作成\n",
    "new_observation = [[ 5.2, 3.2, 1.1, 0.1]]\n",
    "\n",
    "# 観測値のクラスを予測\n",
    "classifer.predict(new_observation)"
   ]
  },
  {
   "cell_type": "code",
   "execution_count": null,
   "metadata": {},
   "outputs": [],
   "source": [
    "# ライブラリをロード\n",
    "import sklearn\n",
    "\n",
    "# scikit-learnのバージョンを取得\n",
    "scikit_version = sklearn.__version__\n",
    "\n",
    "# pickleファイルとしてセーブ\n",
    "joblib.dump(model, \"model_{version}.pkl\".format(version=scikit_version))"
   ]
  },
  {
   "cell_type": "markdown",
   "metadata": {},
   "source": [
    "## レシピ23.2　TensorFlowモデルのセーブとロード \n"
   ]
  },
  {
   "cell_type": "code",
   "execution_count": null,
   "metadata": {},
   "outputs": [],
   "source": [
    "# ライブラリをロード\n",
    "import numpy as np\n",
    "from tensorflow import keras\n",
    "import tensorflow as tf\n",
    "\n",
    "# 乱数シードを設定\n",
    "np.random.seed(0)\n",
    "\n",
    "# 隠れ層1層を持つモデルを作成\n",
    "input_layer = keras.Input(shape=(10,))\n",
    "hidden_layer = keras.layers.Dense(10)(input_layer)\n",
    "output_layer = keras.layers.Dense(1)(input_layer)\n",
    "model = keras.Model(input_layer, output_layer)\n",
    "model.compile(optimizer=\"adam\", loss=\"mean_squared_error\")\n",
    "\n",
    "# モデルを訓練\n",
    "x_train = np.random.random((1000, 10))\n",
    "y_train = np.random.random((1000, 1))\n",
    "model.fit(x_train, y_train)\n",
    "\n",
    "# モデルを`saved_model`というディレクトリにセーブ\n",
    "model.export(\"saved_model\")"
   ]
  },
  {
   "cell_type": "code",
   "execution_count": null,
   "metadata": {},
   "outputs": [],
   "source": [
    "# ニューラルネットワークをロード\n",
    "model = tf.saved_model.load(\"saved_model\")"
   ]
  },
  {
   "cell_type": "markdown",
   "metadata": {},
   "source": [
    "## レシピ23.3　PyTorchモデルのセーブとロード \n"
   ]
  },
  {
   "cell_type": "code",
   "execution_count": null,
   "metadata": {},
   "outputs": [],
   "source": [
    "# ライブラリをロード\n",
    "import torch\n",
    "import torch.nn as nn\n",
    "import numpy as np\n",
    "from torch.utils.data import DataLoader, TensorDataset\n",
    "from torch.optim import RMSprop\n",
    "from sklearn.datasets import make_classification\n",
    "from sklearn.model_selection import train_test_split\n",
    "\n",
    "# 訓練セットとテストセットを作成\n",
    "features, target = make_classification(n_classes=2, n_features=10,\n",
    "    n_samples=1000)\n",
    "features_train, features_test, target_train, target_test = train_test_split(\n",
    "    features, target, test_size=0.1, random_state=1)\n",
    "\n",
    "# 乱数シードを設定\n",
    "torch.manual_seed(0)\n",
    "np.random.seed(0)\n",
    "\n",
    "# データをPyTorchのテンソルに変換\n",
    "x_train = torch.from_numpy(features_train).float()\n",
    "y_train = torch.from_numpy(target_train).float().view(-1, 1)\n",
    "x_test = torch.from_numpy(features_test).float()\n",
    "y_test = torch.from_numpy(target_test).float().view(-1, 1)\n",
    "\n",
    "# `Sequential`を用いてニューラルネットワークを定義\n",
    "class SimpleNeuralNet(nn.Module):\n",
    "    def __init__(self):\n",
    "        super(SimpleNeuralNet, self).__init__()\n",
    "        self.sequential = torch.nn.Sequential(\n",
    "            torch.nn.Linear(10, 16),\n",
    "            torch.nn.ReLU(),\n",
    "            torch.nn.Linear(16,16),\n",
    "            torch.nn.ReLU(),\n",
    "            torch.nn.Linear(16, 1),\n",
    "            torch.nn.Dropout(0.1), # ニューロンの10%をドロップ\n",
    "            torch.nn.Sigmoid(),\n",
    "        )\n",
    "    def forward(self, x):\n",
    "        x = self.sequential(x)\n",
    "        return x\n",
    "\n",
    "# ニューラルネットワークを初期化\n",
    "network = SimpleNeuralNet()\n",
    "\n",
    "# ロス関数と最適化器を定義\n",
    "criterion = nn.BCELoss()\n",
    "optimizer = RMSprop(network.parameters())\n",
    "\n",
    "# データローダを定義\n",
    "train_data = TensorDataset(x_train, y_train)\n",
    "train_loader = DataLoader(train_data, batch_size=100, shuffle=True)\n",
    "\n",
    "# torch 2.0の最適化器を用いてモデルをコンパイル\n",
    "network = torch.compile(network)\n",
    "\n",
    "# ニューラルネットワークを訓練\n",
    "epochs = 5\n",
    "for epoch in range(epochs):\n",
    "    for batch_idx, (data, target) in enumerate(train_loader):\n",
    "        optimizer.zero_grad()\n",
    "        output = network(data)\n",
    "        loss = criterion(output, target)\n",
    "        loss.backward()\n",
    "        optimizer.step()\n",
    "\n",
    "# 訓練したモデルをセーブ\n",
    "torch.save(\n",
    "    {\n",
    "        'epoch': epoch,\n",
    "        'model_state_dict': network.state_dict(),\n",
    "        'optimizer_state_dict': optimizer.state_dict(),\n",
    "        'loss': loss,\n",
    "    },\n",
    "    \"model.pt\"\n",
    ")\n",
    "\n",
    "# ニューラルネットワークを再初期化\n",
    "network = SimpleNeuralNet()\n",
    "state_dict = torch.load(\n",
    "    \"model.pt\",\n",
    "    map_location=torch.device('cpu')\n",
    ")[\"model_state_dict\"]\n",
    "network.load_state_dict(state_dict, strict=False)\n",
    "network.eval()"
   ]
  },
  {
   "cell_type": "markdown",
   "metadata": {},
   "source": []
  },
  {
   "cell_type": "markdown",
   "metadata": {},
   "source": [
    "## レシピ23.4　scikit-learnモデルのサービス化 \n"
   ]
  },
  {
   "cell_type": "code",
   "execution_count": null,
   "metadata": {},
   "outputs": [],
   "source": [
    "# ライブラリをロード\n",
    "import joblib\n",
    "from flask import Flask, request\n",
    "\n",
    "# Flaskアプリケーションオブジェクトを作成\n",
    "app = Flask(__name__)\n",
    "\n",
    "# ディスクからモデルをロード\n",
    "model = joblib.load(\"model.pkl\")\n",
    "\n",
    "# predictというrouteを作成する。JSONデータを受け取り、予測を行い、結果を返す。\n",
    "@app.route(\"/predict\", methods = [\"POST\"])\n",
    "def predict():\n",
    "    print(request.json)\n",
    "    inputs = request.json[\"inputs\"]\n",
    "    prediction = model.predict(inputs)\n",
    "    return {\n",
    "        \"prediction\" : prediction.tolist()\n",
    "    }\n",
    "\n",
    "# アプリケーションを実行\n",
    "if __name__ == \"__main__\":\n",
    "    app.run()\n"
   ]
  },
  {
   "cell_type": "markdown",
   "metadata": {},
   "source": [
    "## レシピ23.5　TensorFlowモデルのサービス化 \n"
   ]
  },
  {
   "cell_type": "code",
   "execution_count": null,
   "metadata": {},
   "outputs": [],
   "source": []
  },
  {
   "cell_type": "markdown",
   "metadata": {},
   "source": [
    "## レシピ23.6　 Seldonを用いたPyTorchモデルのWebサービス化 \n"
   ]
  },
  {
   "cell_type": "code",
   "execution_count": null,
   "metadata": {},
   "outputs": [],
   "source": [
    "# ライブラリをロード\n",
    "import torch\n",
    "import torch.nn as nn\n",
    "import logging\n",
    "\n",
    "# PyTorchのモデルクラスを作成\n",
    "class SimpleNeuralNet(nn.Module):\n",
    "    def __init__(self):\n",
    "        super(SimpleNeuralNet, self).__init__()\n",
    "        self.sequential = torch.nn.Sequential(\n",
    "            torch.nn.Linear(10, 16),\n",
    "            torch.nn.ReLU(),\n",
    "            torch.nn.Linear(16,16),\n",
    "            torch.nn.ReLU(),\n",
    "            torch.nn.Linear(16, 1),\n",
    "            torch.nn.Dropout(0.1), # Drop 10% of neurons\n",
    "            torch.nn.Sigmoid(),\n",
    "        )\n",
    "\n",
    "# Seldonのモデルオブジェクトを`MyModel`という名前で作成\n",
    "class MyModel(object):\n",
    "    # モデルのロード\n",
    "    def __init__(self):\n",
    "        self.network = SimpleNeuralNet()\n",
    "        self.network.load_state_dict(\n",
    "        torch.load(\"model.pt\")[\"model_state_dict\"],\n",
    "            strict=False\n",
    "        )\n",
    "        logging.info(self.network.eval())\n",
    "    # 予測\n",
    "    def predict(self, X, features_names=None):\n",
    "        return self.network.forward(X)\n",
    "    "
   ]
  }
 ],
 "metadata": {
  "kernelspec": {
   "display_name": "base",
   "language": "python",
   "name": "python3"
  },
  "language_info": {
   "codemirror_mode": {
    "name": "ipython",
    "version": 3
   },
   "file_extension": ".py",
   "mimetype": "text/x-python",
   "name": "python",
   "nbconvert_exporter": "python",
   "pygments_lexer": "ipython3",
   "version": "3.11.7"
  }
 },
 "nbformat": 4,
 "nbformat_minor": 2
}
