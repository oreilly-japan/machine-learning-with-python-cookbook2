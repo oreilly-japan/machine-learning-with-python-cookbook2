{
 "cells": [
  {
   "cell_type": "markdown",
   "metadata": {},
   "source": [
    "# 9章　特徴量抽出による次元削減 \n",
    "## レシピ9.1　主成分を用いた特徴量削減 \n"
   ]
  },
  {
   "cell_type": "code",
   "execution_count": null,
   "metadata": {},
   "outputs": [],
   "source": [
    "# ライブラリをロード\n",
    "from sklearn.preprocessing import StandardScaler\n",
    "from sklearn.decomposition import PCA\n",
    "from sklearn import datasets\n",
    "\n",
    "# データをロード\n",
    "digits = datasets.load_digits()\n",
    "\n",
    "# 特徴量行列を標準化\n",
    "features = StandardScaler().fit_transform(digits.data)\n",
    "\n",
    "# 分散を99%維持するPCAを作成\n",
    "pca = PCA(n_components=0.99, whiten=True)\n",
    "\n",
    "# PCAを実行\n",
    "features_pca = pca.fit_transform(features)\n",
    "\n",
    "# 結果を表示\n",
    "print(\"もとの特徴量数:\", features.shape[1])\n",
    "print(\"削減後の特徴量数:\", features_pca.shape[1])\n"
   ]
  },
  {
   "cell_type": "markdown",
   "metadata": {},
   "source": [
    "## レシピ9.2　データが線形分離不可能な際の特徴量削減 \n"
   ]
  },
  {
   "cell_type": "code",
   "execution_count": null,
   "metadata": {},
   "outputs": [],
   "source": [
    "# ライブラリをロード\n",
    "from sklearn.decomposition import PCA, KernelPCA\n",
    "from sklearn.datasets import make_circles\n",
    "\n",
    "# 線形分離不可能なデータを生成\n",
    "features, _ = make_circles(n_samples=1000, random_state=1, noise=0.1, factor=0.1)\n",
    "\n",
    "# RBF（radius basis function）カーネルPCAを適用\n",
    "kpca = KernelPCA(kernel=\"rbf\", gamma=15, n_components=1)\n",
    "features_kpca = kpca.fit_transform(features)\n",
    "print(\"もとの特徴量数:\", features.shape[1])\n",
    "print(\"削減後の特徴量数:\", features_kpca.shape[1])"
   ]
  },
  {
   "cell_type": "markdown",
   "metadata": {},
   "source": [
    "## レシピ9.3　クラスの分離性最大化による特徴量削減 \n"
   ]
  },
  {
   "cell_type": "code",
   "execution_count": null,
   "metadata": {},
   "outputs": [],
   "source": [
    "# ライブラリをロード\n",
    "from sklearn import datasets\n",
    "from sklearn.discriminant_analysis import LinearDiscriminantAnalysis\n",
    "\n",
    "# Irisデータセットをロード\n",
    "iris = datasets.load_iris()\n",
    "features = iris.data\n",
    "target = iris.target\n",
    "\n",
    "# LDAを作成して実行し、さらにそれを用いて特徴量を変換\n",
    "lda = LinearDiscriminantAnalysis(n_components=1)\n",
    "features_lda = lda.fit(features, target).transform(features)\n",
    "\n",
    "# 特徴量数を表示\n",
    "print(\"もとの特徴量数:\", features.shape[1])\n",
    "print(\"削減後の特徴量数:\", features_lda.shape[1])"
   ]
  },
  {
   "cell_type": "code",
   "execution_count": null,
   "metadata": {},
   "outputs": [],
   "source": [
    "lda.explained_variance_ratio_"
   ]
  },
  {
   "cell_type": "code",
   "execution_count": null,
   "metadata": {},
   "outputs": [],
   "source": [
    "lda.explained_variance_ratio_"
   ]
  },
  {
   "cell_type": "code",
   "execution_count": null,
   "metadata": {},
   "outputs": [],
   "source": [
    "# LDAを作成して実行\n",
    "lda = LinearDiscriminantAnalysis(n_components=None)\n",
    "features_lda = lda.fit(features, target)\n",
    "\n",
    "# 寄与率の配列を作成\n",
    "lda_var_ratios = lda.explained_variance_ratio_\n",
    "\n",
    "# 関数を定義\n",
    "def select_n_components(var_ratio, goal_var):\n",
    "    \n",
    "    # 説明された寄与率の累計変数を初期化\n",
    "    total_variance = 0.0\n",
    "\n",
    "    # 特徴量数の初期値を設定\n",
    "    n_components = 0\n",
    "\n",
    "    # それぞれの特徴量の寄与率に対して\n",
    "    for explained_variance in var_ratio:\n",
    "        # 寄与率を累計に加算\n",
    "        total_variance += explained_variance\n",
    "\n",
    "        # 成分数に1足す\n",
    "        n_components += 1\n",
    "\n",
    "        # 説明された寄与率累計が目標値に到達していたら\n",
    "        if total_variance >= goal_var:\n",
    "            # ループ終了\n",
    "            break\n",
    "\n",
    "    # 成分（特徴量）数を返す\n",
    "    return n_components\n",
    "\n",
    "# 関数を実行\n",
    "select_n_components(lda_var_ratios, 0.95)"
   ]
  },
  {
   "cell_type": "markdown",
   "metadata": {},
   "source": [
    "## レシピ9.4　行列因子分解による特徴量削減 \n"
   ]
  },
  {
   "cell_type": "code",
   "execution_count": null,
   "metadata": {},
   "outputs": [],
   "source": [
    "# ライブラリをロード\n",
    "from sklearn.decomposition import NMF\n",
    "from sklearn import datasets\n",
    "\n",
    "# データをロード\n",
    "digits = datasets.load_digits()\n",
    "\n",
    "# データを特徴量行列として使用\n",
    "features = digits.data\n",
    "\n",
    "# NMFを作成、訓練して適用\n",
    "nmf = NMF(n_components=10, random_state=1)\n",
    "features_nmf = nmf.fit_transform(features)\n",
    "\n",
    "# 結果を表示\n",
    "print(\"もとの特徴量数:\", features.shape[1])\n",
    "print(\"削減後の特徴量数:\", features_nmf.shape[1])"
   ]
  },
  {
   "cell_type": "markdown",
   "metadata": {},
   "source": [
    "## レシピ9.5　疎データの特徴量削減 \n"
   ]
  },
  {
   "cell_type": "code",
   "execution_count": null,
   "metadata": {},
   "outputs": [],
   "source": [
    "# ライブラリをロード\n",
    "from sklearn.preprocessing import StandardScaler\n",
    "from sklearn.decomposition import TruncatedSVD\n",
    "from scipy.sparse import csr_matrix\n",
    "from sklearn import datasets\n",
    "import numpy as np\n",
    "\n",
    "# データをロード\n",
    "digits = datasets.load_digits()\n",
    "\n",
    "# 特徴量行列の標準化\n",
    "features = StandardScaler().fit_transform(digits.data)\n",
    "\n",
    "# 疎行列の作成\n",
    "features_sparse = csr_matrix(features)\n",
    "\n",
    "# TSVDの作成\n",
    "tsvd = TruncatedSVD(n_components=10)\n",
    "\n",
    "# 疎行列に対してTSVDを実行\n",
    "features_sparse_tsvd = tsvd.fit(features_sparse).transform(features_sparse)\n",
    "\n",
    "# 結果を表示\n",
    "print(\"もとの特徴量数:\", features_sparse.shape[1])\n",
    "print(\"削減後の特徴量数:\", features_sparse_tsvd.shape[1])\n"
   ]
  },
  {
   "cell_type": "code",
   "execution_count": null,
   "metadata": {},
   "outputs": [],
   "source": [
    "# 最初の3つの成分の寄与率の総計\n",
    "tsvd.explained_variance_ratio_[0:3].sum()"
   ]
  },
  {
   "cell_type": "code",
   "execution_count": null,
   "metadata": {},
   "outputs": [],
   "source": [
    "# 特徴量数-1を指定してTSVDを作成して実行\n",
    "tsvd = TruncatedSVD(n_components=features_sparse.shape[1]-1)\n",
    "features_tsvd = tsvd.fit(features)\n",
    "\n",
    "# 説明された分散の割合のリスト\n",
    "tsvd_var_ratios = tsvd.explained_variance_ratio_\n",
    "\n",
    "# 関数を定義\n",
    "def select_n_components(var_ratio, goal_var):\n",
    "    # 説明された寄与率の累計変数を初期化\n",
    "    total_variance = 0.0\n",
    "\n",
    "    # 特徴量数の初期値を設定\n",
    "    n_components = 0\n",
    "\n",
    "    # それぞれの特徴量の寄与率に対して\n",
    "    for explained_variance in var_ratio:\n",
    "\n",
    "        # 寄与率を累計に加算\n",
    "        total_variance += explained_variance\n",
    "\n",
    "        # 成分数に1足す\n",
    "        n_components += 1\n",
    "\n",
    "        # 説明された寄与率累計が目標値に到達していたら\n",
    "        if total_variance >= goal_var:\n",
    "            # ループを終了\n",
    "            break\n",
    "        \n",
    "    # 成分（特徴量）数を返す\n",
    "    return n_components\n",
    "\n",
    "# 関数を実行\n",
    "select_n_components(tsvd_var_ratios, 0.95)"
   ]
  }
 ],
 "metadata": {
  "kernelspec": {
   "display_name": "base",
   "language": "python",
   "name": "python3"
  },
  "language_info": {
   "codemirror_mode": {
    "name": "ipython",
    "version": 3
   },
   "file_extension": ".py",
   "mimetype": "text/x-python",
   "name": "python",
   "nbconvert_exporter": "python",
   "pygments_lexer": "ipython3",
   "version": "3.11.7"
  }
 },
 "nbformat": 4,
 "nbformat_minor": 2
}
