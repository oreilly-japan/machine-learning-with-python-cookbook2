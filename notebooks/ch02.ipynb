{
 "cells": [
  {
   "cell_type": "markdown",
   "metadata": {},
   "source": [
    "# 2章　データのロード\n",
    "## レシピ2.1　サンプルデータセットのロード\n"
   ]
  },
  {
   "cell_type": "code",
   "execution_count": null,
   "metadata": {},
   "outputs": [],
   "source": [
    "# scikit-learnのdatasetsをロード\n",
    "from sklearn import datasets\n",
    "\n",
    "# digitデータセットをロード\n",
    "digits = datasets.load_digits()\n",
    "\n",
    "# 特徴量行列を作成\n",
    "features = digits.data\n",
    "\n",
    "# ターゲットベクトルを作成\n",
    "target = digits.target\n",
    "\n",
    "# 最初の観測値を表示\n",
    "features[0]"
   ]
  },
  {
   "cell_type": "code",
   "execution_count": null,
   "metadata": {},
   "outputs": [],
   "source": [
    "# scikit-learnのデータセットをインポート\n",
    "from sklearn import datasets\n",
    "\n",
    "# digitsデータセットをロード\n",
    "digits = datasets.load_digits()\n",
    "\n",
    "# DESCR属性を表示\n",
    "print(digits.DESCR)"
   ]
  },
  {
   "cell_type": "markdown",
   "metadata": {},
   "source": [
    "## レシピ2.2　シミュレーションによるデータセットの生成\n"
   ]
  },
  {
   "cell_type": "code",
   "execution_count": null,
   "metadata": {},
   "outputs": [],
   "source": [
    "# ライブラリをロード\n",
    "from sklearn.datasets import make_regression\n",
    "\n",
    "# 特徴量行列、ターゲットベクトル、生成に用いた係数の真の値を生成\n",
    "features, target, coefficients = make_regression(n_samples = 100,\n",
    "                                                n_features = 3,\n",
    "                                                n_informative = 3,\n",
    "                                                n_targets = 1,\n",
    "                                                noise = 0.0,\n",
    "                                                coef = True,\n",
    "                                                random_state = 1)\n",
    "\n",
    "# 特徴量行列とターゲットベクトルを表示\n",
    "print('特徴量行列\\n', features[:3])\n",
    "print('ターゲットベクトル\\n', target[:3])"
   ]
  },
  {
   "cell_type": "code",
   "execution_count": null,
   "metadata": {},
   "outputs": [],
   "source": [
    "# ライブラリをロード\n",
    "from sklearn.datasets import make_classification\n",
    "\n",
    "# 特徴量行列、ターゲットベクトルを生成\n",
    "features, target = make_classification(n_samples = 100,\n",
    "                                    n_features = 3,\n",
    "                                    n_informative = 3,\n",
    "                                    n_redundant = 0,\n",
    "                                    n_classes = 2,\n",
    "                                    weights = [.25, .75],\n",
    "                                    random_state = 1)\n",
    "\n",
    "# 特徴量行列、ターゲットベクトルを表示\n",
    "print('特徴量行列\\n', features[:3])\n",
    "print('ターゲットベクトル\\n', target[:3])"
   ]
  },
  {
   "cell_type": "code",
   "execution_count": null,
   "metadata": {},
   "outputs": [],
   "source": [
    "# ライブラリをロード\n",
    "from sklearn.datasets import make_blobs\n",
    "\n",
    "# 特徴量行列、ターゲットベクトルを生成\n",
    "features, target = make_blobs(n_samples = 100,\n",
    "                              n_features = 2,\n",
    "                              centers = 3,\n",
    "                              cluster_std = 0.5,\n",
    "                              shuffle = True,\n",
    "                              random_state = 1)\n",
    "\n",
    "# 特徴量行列、ターゲットベクトルを表示\n",
    "print('特徴量行列\\n', features[:3])\n",
    "print('ターゲットベクトル\\n', target[:3])"
   ]
  },
  {
   "cell_type": "code",
   "execution_count": null,
   "metadata": {},
   "outputs": [],
   "source": [
    "# ライブラリのロード\n",
    "import matplotlib.pyplot as plt\n",
    "\n",
    "# 散布図を表示\n",
    "plt.scatter(features[:,0], features[:,1], c=target)\n",
    "plt.show()"
   ]
  },
  {
   "cell_type": "markdown",
   "metadata": {},
   "source": [
    "## レシピ2.3　CSVファイルのロード\n"
   ]
  },
  {
   "cell_type": "code",
   "execution_count": null,
   "metadata": {},
   "outputs": [],
   "source": [
    "# ライブラリをロード\n",
    "import pandas as pd\n",
    "\n",
    "# URLを作成\n",
    "url = 'https://raw.githubusercontent.com/chrisalbon/sim_data/master/data.csv'\n",
    "\n",
    "# データセットをロード\n",
    "dataframe = pd.read_csv(url)\n",
    "\n",
    "# 最初の2行を表示\n",
    "dataframe.head(2)"
   ]
  },
  {
   "cell_type": "markdown",
   "metadata": {},
   "source": [
    "## レシピ2.4　Excelファイルの読み込み\n"
   ]
  },
  {
   "cell_type": "code",
   "execution_count": null,
   "metadata": {},
   "outputs": [],
   "source": [
    "# ライブラリをロード\n",
    "import pandas as pd\n",
    "\n",
    "# URLを作成\n",
    "url = 'https://raw.githubusercontent.com/chrisalbon/sim_data/master/data.xlsx'\n",
    "\n",
    "# データをロード\n",
    "dataframe = pd.read_excel(url, sheet_name=0, header=0)\n",
    "\n",
    "# 最初の2行を表示\n",
    "dataframe.head(2)"
   ]
  },
  {
   "cell_type": "markdown",
   "metadata": {},
   "source": [
    "## レシピ2.5　JSONファイルの読み込み\n"
   ]
  },
  {
   "cell_type": "code",
   "execution_count": null,
   "metadata": {},
   "outputs": [],
   "source": [
    "# ライブラリをロード\n",
    "import pandas as pd\n",
    "\n",
    "# URLを作成\n",
    "url = 'https://raw.githubusercontent.com/chrisalbon/sim_data/master/data.json'\n",
    "\n",
    "# データをロード\n",
    "dataframe = pd.read_json(url, orient='columns')\n",
    "\n",
    "# 最初の2行を表示\n",
    "dataframe.head(2)"
   ]
  },
  {
   "cell_type": "markdown",
   "metadata": {},
   "source": [
    "## レシピ2.6　Parquetファイルの読み込み\n"
   ]
  },
  {
   "cell_type": "code",
   "execution_count": null,
   "metadata": {},
   "outputs": [],
   "source": [
    "# ライブラリをロード\n",
    "import pandas as pd\n",
    "\n",
    "# URLを作成\n",
    "url = 'https://machine-learning-python-cookbook.s3.amazonaws.com/data.parquet'\n",
    "\n",
    "# データをロード\n",
    "dataframe = pd.read_parquet(url)\n",
    "\n",
    "# 最初の2行を表示\n",
    "dataframe.head(2)"
   ]
  },
  {
   "cell_type": "markdown",
   "metadata": {},
   "source": [
    "## レシピ2.7　Avroファイルの読み込み\n"
   ]
  },
  {
   "cell_type": "code",
   "execution_count": null,
   "metadata": {},
   "outputs": [],
   "source": [
    "# ライブラリをロード\n",
    "import requests\n",
    "import pandavro as pdx\n",
    "\n",
    "# URLを作成\n",
    "url = 'https://machine-learning-python-cookbook.s3.amazonaws.com/data.avro'\n",
    "\n",
    "# ファイルをダウンロード\n",
    "r = requests.get(url)\n",
    "open('data.avro', 'wb').write(r.content)\n",
    "\n",
    "# データをロード\n",
    "dataframe = pdx.read_avro('data.avro')\n",
    "\n",
    "# 最初の2行を表示\n",
    "dataframe.head(2)"
   ]
  },
  {
   "cell_type": "markdown",
   "metadata": {},
   "source": [
    "## レシピ2.8　SQLiteデータベースの検索\n"
   ]
  },
  {
   "cell_type": "code",
   "execution_count": null,
   "metadata": {},
   "outputs": [],
   "source": [
    "# ライブラリをロード\n",
    "import pandas as pd\n",
    "from sqlalchemy import create_engine\n",
    "\n",
    "# データベース接続を作成\n",
    "database_connection = create_engine('sqlite:///sample.db')\n",
    "\n",
    "# データをロード\n",
    "dataframe = pd.read_sql_query('SELECT * FROM data', database_connection)\n",
    "\n",
    "# 最初の2行を表示\n",
    "dataframe.head(2)"
   ]
  },
  {
   "cell_type": "markdown",
   "metadata": {},
   "source": [
    "## レシピ2.9　リモートSQLデータベースの検索\n"
   ]
  },
  {
   "cell_type": "code",
   "execution_count": null,
   "metadata": {},
   "outputs": [],
   "source": [
    "# ライブラリをロード\n",
    "import pymysql\n",
    "import pandas as pd\n",
    "\n",
    "# データベース接続を作成\n",
    "# 下記URLにあるコード例を用いてDBインスタンスを起動しておくこと\n",
    "# https://github.com/kylegallatin/mysql-db-example\n",
    "conn = pymysql.connect(\n",
    "    host='localhost',\n",
    "    user='root',\n",
    "    password = \"\",\n",
    "    db='db',\n",
    ")                    \n",
    "# SQLクエリを発行し、結果をデータフレームに読み込む\n",
    "dataframe = pd.read_sql(\"select * from data\", conn)\n",
    "# 最初の2行を表示\n",
    "dataframe.head(2)"
   ]
  },
  {
   "cell_type": "code",
   "execution_count": null,
   "metadata": {},
   "outputs": [],
   "source": []
  },
  {
   "cell_type": "markdown",
   "metadata": {},
   "source": [
    "## レシピ2.10　Google Sheetsからの読み込み\n"
   ]
  },
  {
   "cell_type": "code",
   "execution_count": null,
   "metadata": {},
   "outputs": [],
   "source": [
    "# ライブラリをロード\n",
    "import pandas as pd\n",
    "\n",
    "# Google SheetsのURL。CSVとしてダウンロードする\n",
    "url = \"https://docs.google.com/spreadsheets/d/\"\\\n",
    "\"1ehC-9otcAuitqnmWksqt1mOrTRCL38dv0K9UjhwzTOA/export?format=csv\"\n",
    "\n",
    "# CSVをデータフレームとして読み込む\n",
    "dataframe = pd.read_csv(url)\n",
    "\n",
    "# 最初の2行を表示\n",
    "dataframe.head(2)\n"
   ]
  },
  {
   "cell_type": "markdown",
   "metadata": {},
   "source": [
    "## レシピ2.11　S3バケットからのデータロード\n"
   ]
  },
  {
   "cell_type": "code",
   "execution_count": null,
   "metadata": {},
   "outputs": [],
   "source": [
    "# ライブラリをロード\n",
    "import pandas as pd\n",
    "\n",
    "# CSVファイルのS3パス\n",
    "s3_uri = \"s3://machine-learning-python-cookbook/data.csv\"\n",
    "\n",
    "# AWSクレデンシャルをセット（適切なものに置き換える）\n",
    "ACCESS_KEY_ID = \"xxxxxxxxxxxxx\"\n",
    "SECRET_ACCESS_KEY = \"xxxxxxxxxxxxxxxx\"\n",
    "\n",
    "# CSVをデータフレームに読み込む\n",
    "dataframe = pd.read_csv(s3_uri,storage_options={\n",
    "        \"key\": ACCESS_KEY_ID,\n",
    "        \"secret\": SECRET_ACCESS_KEY,\n",
    "    }\n",
    ")\n",
    "\n",
    "# 最初の2行を表示\n",
    "dataframe.head(2)"
   ]
  },
  {
   "cell_type": "markdown",
   "metadata": {},
   "source": [
    "## レシピ2.12　非構造データのロード\n"
   ]
  },
  {
   "cell_type": "code",
   "execution_count": null,
   "metadata": {},
   "outputs": [],
   "source": [
    "# ライブラリをロード\n",
    "import requests\n",
    "\n",
    "# txtファイルをダウンロードするURL\n",
    "txt_url = \"https://machine-learning-python-cookbook.s3.amazonaws.com/text.txt\"\n",
    "\n",
    "# txtを取得\n",
    "r = requests.get(txt_url)\n",
    "\n",
    "# ローカルなtext.txtとして書き出す\n",
    "with open('text.txt', 'wb') as f:\n",
    "    f.write(r.content)\n",
    "\n",
    "# text.txtを読み込む\n",
    "with open('text.txt', 'r') as f:\n",
    "    text = f.read()\n",
    "\n",
    "# 内容を表示\n",
    "print(text)"
   ]
  },
  {
   "cell_type": "markdown",
   "metadata": {},
   "source": []
  }
 ],
 "metadata": {
  "kernelspec": {
   "display_name": "base",
   "language": "python",
   "name": "python3"
  },
  "language_info": {
   "codemirror_mode": {
    "name": "ipython",
    "version": 3
   },
   "file_extension": ".py",
   "mimetype": "text/x-python",
   "name": "python",
   "nbconvert_exporter": "python",
   "pygments_lexer": "ipython3",
   "version": "3.11.7"
  }
 },
 "nbformat": 4,
 "nbformat_minor": 2
}
