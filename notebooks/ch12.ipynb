{
 "cells": [
  {
   "cell_type": "markdown",
   "metadata": {},
   "source": [
    "# 12章　モデル選択 \n",
    "## レシピ12.1　全解探索による最良モデル選択 "
   ]
  },
  {
   "cell_type": "code",
   "execution_count": null,
   "metadata": {},
   "outputs": [],
   "source": [
    "# ライブラリをロード\n",
    "import numpy as np\n",
    "from sklearn import linear_model, datasets\n",
    "from sklearn.model_selection import GridSearchCV\n",
    "\n",
    "# データをロード\n",
    "iris = datasets.load_iris()\n",
    "features = iris.data\n",
    "target = iris.target\n",
    "\n",
    "# ロジスティック回帰器を作成\n",
    "logistic = linear_model.LogisticRegression(max_iter=500, solver='liblinear')\n",
    "\n",
    "# 正則化ペナルティハイパーパラメータの候補となる値の範囲を指定\n",
    "penalty = ['l1', 'l2']\n",
    "\n",
    "# 正則化強度ハイパーパラメータの候補となる値の範囲を指定\n",
    "C = np.logspace(0, 4, 10)\n",
    "\n",
    "# ハイパーパラメータ候補辞書を作成\n",
    "hyperparameters = dict(C=C, penalty=penalty)\n",
    "\n",
    "# グリッド探索器を作成\n",
    "gridsearch = GridSearchCV(logistic, hyperparameters, cv=5, verbose=0)\n",
    "\n",
    "# グリッド探索器を訓練\n",
    "best_model = gridsearch.fit(features, target)\n",
    "\n",
    "# 最良のモデルを表示\n",
    "print(best_model.best_estimator_)"
   ]
  },
  {
   "cell_type": "code",
   "execution_count": null,
   "metadata": {},
   "outputs": [],
   "source": [
    "np.logspace(0, 4, 10)"
   ]
  },
  {
   "cell_type": "code",
   "execution_count": null,
   "metadata": {},
   "outputs": [],
   "source": [
    "# 最良のハイパーパラメータを表示\n",
    "print('Best Penalty:', best_model.best_estimator_.get_params()['penalty'])\n",
    "print('Best C:', best_model.best_estimator_.get_params()['C'])"
   ]
  },
  {
   "cell_type": "code",
   "execution_count": null,
   "metadata": {},
   "outputs": [],
   "source": [
    "# ターゲットベクトルを予測\n",
    "best_model.predict(features)"
   ]
  },
  {
   "cell_type": "markdown",
   "metadata": {},
   "source": [
    "## レシピ12.2　ランダム探索による最良モデルの選択 \n"
   ]
  },
  {
   "cell_type": "code",
   "execution_count": null,
   "metadata": {},
   "outputs": [],
   "source": [
    "# ライブラリをロード\n",
    "from scipy.stats import uniform\n",
    "from sklearn import linear_model, datasets\n",
    "from sklearn.model_selection import RandomizedSearchCV\n",
    "\n",
    "# データをロード\n",
    "iris = datasets.load_iris()\n",
    "features = iris.data\n",
    "target = iris.target\n",
    "\n",
    "# ロジスティック回帰器を作成\n",
    "logistic = linear_model.LogisticRegression(max_iter=500, solver='liblinear')\n",
    "\n",
    "# 正則化ペナルティハイパーパラメータの候補となる値の範囲を指定\n",
    "penalty = ['l1', 'l2']\n",
    "\n",
    "# 正則化強度ハイパーパラメータの候補となる値の範囲を指定\n",
    "C = uniform(loc=0, scale=4)\n",
    "\n",
    "# ハイパーパラメータ候補辞書を作成\n",
    "hyperparameters = dict(C=C, penalty=penalty)\n",
    "\n",
    "# ランダム探索器を作成\n",
    "randomizedsearch = RandomizedSearchCV(\n",
    "logistic, hyperparameters, random_state=1, n_iter=100, cv=5, verbose=0,\n",
    "n_jobs=-1)\n",
    "\n",
    "# ランダム探索器を訓練\n",
    "best_model = randomizedsearch.fit(features, target)\n",
    "\n",
    "# 最良のモデルを表示\n",
    "print(best_model.best_estimator_)"
   ]
  },
  {
   "cell_type": "code",
   "execution_count": null,
   "metadata": {},
   "outputs": [],
   "source": [
    "# 0から4までの一様分布を作り、10点をサンプリングする\n",
    "uniform(loc=0, scale=4).rvs(10)"
   ]
  },
  {
   "cell_type": "code",
   "execution_count": null,
   "metadata": {},
   "outputs": [],
   "source": [
    "# 最良のハイパーパラメータを表示\n",
    "print('Best Penalty:', best_model.best_estimator_.get_params()['penalty'])\n",
    "print('Best C:', best_model.best_estimator_.get_params()['C'])"
   ]
  },
  {
   "cell_type": "code",
   "execution_count": null,
   "metadata": {},
   "outputs": [],
   "source": [
    "# ターゲットベクトルを予測\n",
    "best_model.predict(features)"
   ]
  },
  {
   "cell_type": "markdown",
   "metadata": {},
   "source": [
    "## レシピ12.3　複数の学習アルゴリズムから最良のモデルを選択 \n"
   ]
  },
  {
   "cell_type": "code",
   "execution_count": null,
   "metadata": {},
   "outputs": [],
   "source": [
    "# ライブラリをロード\n",
    "import numpy as np\n",
    "from sklearn import datasets\n",
    "from sklearn.linear_model import LogisticRegression\n",
    "from sklearn.ensemble import RandomForestClassifier\n",
    "from sklearn.model_selection import GridSearchCV\n",
    "from sklearn.pipeline import Pipeline\n",
    "\n",
    "# 乱数シードを設定\n",
    "np.random.seed(0)\n",
    "\n",
    "# データをロード\n",
    "iris = datasets.load_iris()\n",
    "features = iris.data\n",
    "target = iris.target\n",
    "\n",
    "# パイプラインを作成\n",
    "pipe = Pipeline([(\"classifier\", RandomForestClassifier())])\n",
    "\n",
    "# 候補学習アルゴリズムとそのハイパーパラメータの辞書を作成\n",
    "search_space = [{\"classifier\": [LogisticRegression(max_iter=500, solver='liblinear')],\n",
    "                 \"classifier__penalty\": ['l1', 'l2'],\n",
    "                 \"classifier__C\": np.logspace(0, 4, 10)},\n",
    "                 {\"classifier\": [RandomForestClassifier()],\n",
    "                  \"classifier__n_estimators\": [10, 100, 1000],\n",
    "                  \"classifier__max_features\": [1, 2, 3]}]\n",
    "\n",
    "# グリッド探索器を作成\n",
    "gridsearch = GridSearchCV(pipe, search_space, cv=5, verbose=0)\n",
    "\n",
    "# グリッド探索器を訓練\n",
    "best_model = gridsearch.fit(features, target)\n",
    "\n",
    "# 最良のモデルを表示\n",
    "print(best_model.best_estimator_)"
   ]
  },
  {
   "cell_type": "code",
   "execution_count": null,
   "metadata": {},
   "outputs": [],
   "source": [
    "# 最良のモデルを表示\n",
    "print(best_model.best_estimator_.get_params()[\"classifier\"])"
   ]
  },
  {
   "cell_type": "code",
   "execution_count": null,
   "metadata": {},
   "outputs": [],
   "source": [
    "# ターゲットベクトルを予測\n",
    "best_model.predict(features)"
   ]
  },
  {
   "cell_type": "markdown",
   "metadata": {},
   "source": [
    "## レシピ12.4　前処理がある場合の最良モデルの選択 \n"
   ]
  },
  {
   "cell_type": "code",
   "execution_count": null,
   "metadata": {},
   "outputs": [],
   "source": [
    "# ライブラリをロード\n",
    "import numpy as np\n",
    "from sklearn import datasets\n",
    "from sklearn.linear_model import LogisticRegression\n",
    "from sklearn.model_selection import GridSearchCV\n",
    "from sklearn.pipeline import Pipeline, FeatureUnion\n",
    "from sklearn.decomposition import PCA\n",
    "from sklearn.preprocessing import StandardScaler\n",
    "\n",
    "# 乱数シードを設定\n",
    "np.random.seed(0)\n",
    "\n",
    "# データをロード\n",
    "iris = datasets.load_iris()\n",
    "features = iris.data\n",
    "target = iris.target\n",
    "\n",
    "# StandardScalerとPCAを含む前処理オブジェクトを作成\n",
    "preprocess = FeatureUnion([(\"std\", StandardScaler()), (\"pca\", PCA())])\n",
    "\n",
    "# パイプラインを作成\n",
    "pipe = Pipeline([(\"preprocess\", preprocess),\n",
    "                 (\"classifier\", LogisticRegression(max_iter=1000,\n",
    "                                                   solver='liblinear'))])\n",
    "\n",
    "# 候補値の空間を作成\n",
    "search_space = [{\"preprocess__pca__n_components\": [1, 2, 3],\n",
    "                 \"classifier__penalty\": [\"l1\", \"l2\"],\n",
    "                 \"classifier__C\": np.logspace(0, 4, 10)}]\n",
    "\n",
    "# グリッド探索器を作成\n",
    "clf = GridSearchCV(pipe, search_space, cv=5, verbose=0, n_jobs=-1)\n",
    "\n",
    "# グリッド探索器を訓練\n",
    "best_model = clf.fit(features, target)\n",
    "\n",
    "# 最良のモデルを表示\n",
    "print(best_model.best_estimator_)"
   ]
  },
  {
   "cell_type": "code",
   "execution_count": null,
   "metadata": {},
   "outputs": [],
   "source": [
    "# 最良の主成分の数を表示\n",
    "best_model.best_estimator_.get_params()['preprocess__pca__n_components']"
   ]
  },
  {
   "cell_type": "markdown",
   "metadata": {},
   "source": [
    "## レシピ12.5　並列化によるモデル選択の高速化 \n"
   ]
  },
  {
   "cell_type": "code",
   "execution_count": null,
   "metadata": {},
   "outputs": [],
   "source": [
    "# ライブラリをロード\n",
    "import numpy as np\n",
    "from sklearn import linear_model, datasets\n",
    "from sklearn.model_selection import GridSearchCV\n",
    "\n",
    "# データをロード\n",
    "iris = datasets.load_iris()\n",
    "features = iris.data\n",
    "target = iris.target\n",
    "\n",
    "# ロジスティック回帰器を作成\n",
    "logistic = linear_model.LogisticRegression(max_iter=500, solver='liblinear')\n",
    "\n",
    "# 正則化ペナルティハイパーパラメータの候補となる値の範囲を指定\n",
    "penalty = [\"l1\", \"l2\"]\n",
    "\n",
    "# 正則化強度ハイパーパラメータの候補となる値の範囲を指定\n",
    "C = np.logspace(0, 4, 1000)\n",
    "\n",
    "# ハイパーパラメータ候補辞書を作成\n",
    "hyperparameters = dict(C=C, penalty=penalty)\n",
    "\n",
    "# グリッド探索器を作成\n",
    "gridsearch = GridSearchCV(logistic, hyperparameters, cv=5, n_jobs=-1, verbose=1)\n",
    "\n",
    "# グリッド探索器を訓練\n",
    "best_model = gridsearch.fit(features, target)\n",
    "\n",
    "# 最良のモデルを表示\n",
    "print(best_model.best_estimator_)"
   ]
  },
  {
   "cell_type": "code",
   "execution_count": null,
   "metadata": {},
   "outputs": [],
   "source": [
    "# 1コアだけ使用するグリッド探索器を作成\n",
    "clf = GridSearchCV(logistic, hyperparameters, cv=5, n_jobs=1, verbose=1)\n",
    "\n",
    "# グリッド探索器を訓練\n",
    "best_model = clf.fit(features, target)\n",
    "\n",
    "# 最良のモデルを表示\n",
    "print(best_model.best_estimator_)"
   ]
  },
  {
   "cell_type": "markdown",
   "metadata": {},
   "source": [
    "## レシピ12.6　アルゴリズム固有の方法を用いたモデル選択の高速化 \n"
   ]
  },
  {
   "cell_type": "code",
   "execution_count": null,
   "metadata": {},
   "outputs": [],
   "source": [
    "# ライブラリをロード\n",
    "from sklearn import linear_model, datasets\n",
    "\n",
    "# データをロード\n",
    "iris = datasets.load_iris()\n",
    "features = iris.data\n",
    "target = iris.target\n",
    "\n",
    "# ロジスティック回帰交差検証器を作成\n",
    "logit = linear_model.LogisticRegressionCV(Cs=100, max_iter=500, \n",
    "                                          solver='liblinear')\n",
    "\n",
    "# 交差検証器を訓練\n",
    "logit.fit(features, target)\n",
    "\n",
    "# モデルを表示\n",
    "print(logit)"
   ]
  },
  {
   "cell_type": "markdown",
   "metadata": {},
   "source": [
    "## レシピ12.7　モデル選択後の性能評価 \n"
   ]
  },
  {
   "cell_type": "code",
   "execution_count": null,
   "metadata": {},
   "outputs": [],
   "source": [
    "# ライブラリをロード\n",
    "import numpy as np\n",
    "from sklearn import linear_model, datasets\n",
    "from sklearn.model_selection import GridSearchCV, cross_val_score\n",
    "\n",
    "# データをロード\n",
    "iris = datasets.load_iris()\n",
    "features = iris.data\n",
    "target = iris.target\n",
    "\n",
    "# ロジスティック回帰器を作成\n",
    "logistic = linear_model.LogisticRegression(max_iter=500, solver='liblinear')\n",
    "\n",
    "# 正則化強度ハイパーパラメータの候補値を20個作成\n",
    "C = np.logspace(0, 4, 20)\n",
    "\n",
    "# ハイパーパラメータ候補辞書を作成\n",
    "hyperparameters = dict(C=C)\n",
    "\n",
    "# グリッド探索器を作成\n",
    "gridsearch = GridSearchCV(logistic, hyperparameters, cv=5, n_jobs=-1, verbose=0)\n",
    "\n",
    "# 二重交差検証を行い、平均値を表示\n",
    "cross_val_score(gridsearch, features, target).mean()"
   ]
  },
  {
   "cell_type": "code",
   "execution_count": null,
   "metadata": {},
   "outputs": [],
   "source": [
    "gridsearch = GridSearchCV(logistic, hyperparameters, cv=5, verbose=1)\n",
    "best_model = gridsearch.fit(features, target)"
   ]
  },
  {
   "cell_type": "code",
   "execution_count": null,
   "metadata": {},
   "outputs": [],
   "source": [
    "scores = cross_val_score(gridsearch, features, target)"
   ]
  },
  {
   "cell_type": "code",
   "execution_count": null,
   "metadata": {},
   "outputs": [],
   "source": []
  }
 ],
 "metadata": {
  "kernelspec": {
   "display_name": "base",
   "language": "python",
   "name": "python3"
  },
  "language_info": {
   "codemirror_mode": {
    "name": "ipython",
    "version": 3
   },
   "file_extension": ".py",
   "mimetype": "text/x-python",
   "name": "python",
   "nbconvert_exporter": "python",
   "pygments_lexer": "ipython3",
   "version": "3.11.7"
  }
 },
 "nbformat": 4,
 "nbformat_minor": 2
}
