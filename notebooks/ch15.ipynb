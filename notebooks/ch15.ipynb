{
 "cells": [
  {
   "cell_type": "markdown",
   "metadata": {},
   "source": [
    "# 15章　k-最近傍法 \n",
    "## レシピ15.1　観測値の近傍の発見 \n"
   ]
  },
  {
   "cell_type": "code",
   "execution_count": null,
   "metadata": {},
   "outputs": [],
   "source": [
    "# ライブラリをロード\n",
    "from sklearn import datasets\n",
    "from sklearn.neighbors import NearestNeighbors\n",
    "from sklearn.preprocessing import StandardScaler\n",
    "\n",
    "# データをロード\n",
    "iris = datasets.load_iris()\n",
    "features = iris.data\n",
    "\n",
    "# 標準化器を作成\n",
    "standardizer = StandardScaler()\n",
    "\n",
    "# 特徴量を標準化\n",
    "features_standardized = standardizer.fit_transform(features)\n",
    "\n",
    "# 2-最近傍法\n",
    "nearest_neighbors = NearestNeighbors(n_neighbors=2).fit(features_standardized)\n",
    "\n",
    "# 観測値を作成\n",
    "new_observation = [1, 1, 1, 1]\n",
    "\n",
    "# 最近傍の観測値の距離とインデックスを計算\n",
    "distances, indices = nearest_neighbors.kneighbors([new_observation])\n",
    "\n",
    "# 最近傍点を表示\n",
    "features_standardized[indices]\n"
   ]
  },
  {
   "cell_type": "code",
   "execution_count": null,
   "metadata": {},
   "outputs": [],
   "source": [
    "# ユークリッド距離を用いて最初の2つの最近傍点を見つける\n",
    "nearestneighbors_euclidean = NearestNeighbors(\n",
    "n_neighbors=2, metric='euclidean').fit(features_standardized)"
   ]
  },
  {
   "cell_type": "code",
   "execution_count": null,
   "metadata": {},
   "outputs": [],
   "source": [
    "# 距離を表示\n",
    "distances"
   ]
  },
  {
   "cell_type": "code",
   "execution_count": null,
   "metadata": {},
   "outputs": [],
   "source": [
    "# ユークリッド距離を用いて、最近傍点を3つ（自身を含む）見つける\n",
    "nearestneighbors_euclidean = NearestNeighbors(\n",
    "n_neighbors=3, metric=\"euclidean\").fit(features_standardized)\n",
    "\n",
    "# それぞれの観測値に対する3つの最近傍点（自身を含む）\n",
    "# を表すリストのリストを作成\n",
    "nearest_neighbors_with_self = nearestneighbors_euclidean.kneighbors_graph(\n",
    "    features_standardized).toarray()\n",
    "\n",
    "# 自分自身を指している近傍点を削除\n",
    "for i, x in enumerate(nearest_neighbors_with_self):\n",
    "    x[i] = 0\n",
    "\n",
    "# 最初の観測値の2つの最近傍点を表示\n",
    "nearest_neighbors_with_self[0]"
   ]
  },
  {
   "cell_type": "markdown",
   "metadata": {},
   "source": [
    "## レシピ15.2　k-最近傍法クラス分類器の作成 \n"
   ]
  },
  {
   "cell_type": "code",
   "execution_count": null,
   "metadata": {},
   "outputs": [],
   "source": [
    "# ライブラリをロード\n",
    "from sklearn.neighbors import KNeighborsClassifier\n",
    "from sklearn.preprocessing import StandardScaler\n",
    "from sklearn import datasets\n",
    "\n",
    "# データをロード\n",
    "iris = datasets.load_iris()\n",
    "X = iris.data\n",
    "y = iris.target\n",
    "\n",
    "# 標準化器を作成\n",
    "standardizer = StandardScaler()\n",
    "\n",
    "# 特徴量を標準化\n",
    "X_std = standardizer.fit_transform(X)\n",
    "\n",
    "# 近傍値数を5に指定してKNNクラス分類器を訓練\n",
    "knn = KNeighborsClassifier(n_neighbors=5, n_jobs=-1).fit(X_std, y)\n",
    "\n",
    "# 2つの観測値を作成\n",
    "new_observations = [[ 0.75, 0.75, 0.75, 0.75],\n",
    "                    [ 1, 1, 1, 1]]\n",
    "\n",
    "# 2つの観測値のクラスを予測\n",
    "knn.predict(new_observations)"
   ]
  },
  {
   "cell_type": "code",
   "execution_count": null,
   "metadata": {},
   "outputs": [],
   "source": [
    "# それぞれの観測値が3つのクラスに属する確率を表示\n",
    "knn.predict_proba(new_observations)"
   ]
  },
  {
   "cell_type": "code",
   "execution_count": null,
   "metadata": {},
   "outputs": [],
   "source": [
    "knn.predict(new_observations)"
   ]
  },
  {
   "cell_type": "markdown",
   "metadata": {},
   "source": [
    "## レシピ15.3　最適な近傍サイズの特定 \n"
   ]
  },
  {
   "cell_type": "code",
   "execution_count": null,
   "metadata": {},
   "outputs": [],
   "source": [
    "# ライブラリをロード\n",
    "from sklearn.neighbors import KNeighborsClassifier\n",
    "from sklearn import datasets\n",
    "from sklearn.preprocessing import StandardScaler\n",
    "from sklearn.pipeline import Pipeline, FeatureUnion\n",
    "from sklearn.model_selection import GridSearchCV\n",
    "\n",
    "# データをロード\n",
    "iris = datasets.load_iris()\n",
    "features = iris.data\n",
    "target = iris.target\n",
    "\n",
    "# 標準化器を作成\n",
    "standardizer = StandardScaler()\n",
    "\n",
    "# 最近傍法クラス分類器を作成\n",
    "knn = KNeighborsClassifier(n_neighbors=5, n_jobs=-1)\n",
    "\n",
    "# パイプラインを作成\n",
    "pipe = Pipeline([(\"standardizer\", standardizer), (\"knn\", knn)])\n",
    "\n",
    "# 候補値の空間を作成\n",
    "search_space = [{\"knn__n_neighbors\": [1, 2, 3, 4, 5, 6, 7, 8, 9, 10]}]\n",
    "\n",
    "# グリッド探索を作成\n",
    "classifier = GridSearchCV(\n",
    "    pipe, search_space, cv=5, verbose=0).fit(features_standardized, target)"
   ]
  },
  {
   "cell_type": "code",
   "execution_count": null,
   "metadata": {},
   "outputs": [],
   "source": [
    "# 最良の近傍点数（k）\n",
    "classifier.best_estimator_.get_params()[\"knn__n_neighbors\"]"
   ]
  },
  {
   "cell_type": "markdown",
   "metadata": {},
   "source": [
    "## レシピ15.4　半径を用いた最近傍クラス分類器の作成 \n"
   ]
  },
  {
   "cell_type": "code",
   "execution_count": null,
   "metadata": {},
   "outputs": [],
   "source": [
    "# ライブラリをロード\n",
    "from sklearn.neighbors import RadiusNeighborsClassifier\n",
    "from sklearn.preprocessing import StandardScaler\n",
    "from sklearn import datasets\n",
    "\n",
    "# データをロード\n",
    "iris = datasets.load_iris()\n",
    "features = iris.data\n",
    "target = iris.target\n",
    "\n",
    "# 標準化器を作成\n",
    "standardizer = StandardScaler()\n",
    "\n",
    "# 特徴量を標準化\n",
    "features_standardized = standardizer.fit_transform(features)\n",
    "\n",
    "# 半径を用いる近傍法クラス分類器を訓練\n",
    "rnn = RadiusNeighborsClassifier(\n",
    "radius=.5, n_jobs=-1).fit(features_standardized, target)\n",
    "\n",
    "# 観測値を作成\n",
    "new_observations = [[1, 1, 1, 1]]\n",
    "\n",
    "# 観測値のクラスを予測\n",
    "rnn.predict(new_observations)"
   ]
  },
  {
   "cell_type": "markdown",
   "metadata": {},
   "source": [
    "## レシピ15.5　近似最近傍の検索 \n"
   ]
  },
  {
   "cell_type": "code",
   "execution_count": null,
   "metadata": {},
   "outputs": [],
   "source": [
    "# ライブラリをロード\n",
    "import faiss\n",
    "import numpy as np\n",
    "from sklearn import datasets\n",
    "from sklearn.neighbors import NearestNeighbors\n",
    "from sklearn.preprocessing import StandardScaler\n",
    "\n",
    "# データをロード\n",
    "iris = datasets.load_iris()\n",
    "features = iris.data\n",
    "\n",
    "# 標準化器を作成\n",
    "standardizer = StandardScaler()\n",
    "\n",
    "# 特徴量を標準化\n",
    "features_standardized = standardizer.fit_transform(features)\n",
    "\n",
    "# faissのパラメータを設定\n",
    "n_features = features_standardized.shape[1]\n",
    "nlist = 3\n",
    "k = 2\n",
    "\n",
    "# IVFインデックスを作成\n",
    "quantizer = faiss.IndexFlatIP(n_features)\n",
    "index = faiss.IndexIVFFlat(quantizer, n_features, nlist)\n",
    "\n",
    "# インデックスを訓練し、特徴ベクトルを追加\n",
    "index.train(features_standardized)\n",
    "index.add(features_standardized)\n",
    "\n",
    "# 観測値を作成\n",
    "new_observation = np.array([[ 1, 1, 1, 1]])\n",
    "\n",
    "# 2つの最近傍点を検索しインデックスを取得\n",
    "distances, indices = index.search(new_observation, k)\n",
    "\n",
    "# 2つの最近傍点の特徴ベクトルを表示\n",
    "np.array([list(features_standardized[i]) for i in indices[0]])"
   ]
  },
  {
   "cell_type": "markdown",
   "metadata": {},
   "source": [
    "## レシピ15.6　近似最近傍法の評価 \n"
   ]
  },
  {
   "cell_type": "code",
   "execution_count": null,
   "metadata": {},
   "outputs": [],
   "source": [
    "# ライブラリをロード\n",
    "import faiss\n",
    "import numpy as np\n",
    "from sklearn import datasets\n",
    "from sklearn.neighbors import NearestNeighbors\n",
    "from sklearn.preprocessing import StandardScaler\n",
    "\n",
    "# 近傍点の数\n",
    "k = 10\n",
    "\n",
    "# データをロード\n",
    "iris = datasets.load_iris()\n",
    "features = iris.data\n",
    "\n",
    "# 標準化器を作成\n",
    "standardizer = StandardScaler()\n",
    "\n",
    "# 特徴量を標準化\n",
    "features_standardized = standardizer.fit_transform(features)\n",
    "\n",
    "# KNNで10個の近傍点を作成\n",
    "nearest_neighbors = NearestNeighbors(n_neighbors=k).fit(features_standardized)\n",
    "\n",
    "# faissのパラメータを設定\n",
    "n_features = features_standardized.shape[1]\n",
    "nlist = 3\n",
    "\n",
    "# IVFインデックスを作成\n",
    "quantizer = faiss.IndexFlatIP(n_features)\n",
    "index = faiss.IndexIVFFlat(quantizer, n_features, nlist)\n",
    "\n",
    "# インデックスを訓練し、特徴ベクトルを追加\n",
    "index.train(features_standardized)\n",
    "index.add(features_standardized)\n",
    "index.nprobe = 1\n",
    "\n",
    "# 観測値を作成\n",
    "new_observation = np.array([[ 1, 1, 1, 1]])\n",
    "\n",
    "# 正確な最近傍点と観測値の距離とインデックスを取得\n",
    "knn_distances, knn_indices = nearest_neighbors.kneighbors(new_observation)\n",
    "\n",
    "# 10個の最近傍点を検索しインデックスを取得\n",
    "ivf_distances, ivf_indices = index.search(new_observation, k)\n",
    "\n",
    "# 集合の重複部分を取得\n",
    "recalled_items = set(list(knn_indices[0])) & set(list(ivf_indices[0]))\n",
    "\n",
    "# Recall@kを表示\n",
    "print(f\"Recall @k={k}: {len(recalled_items)/k * 100}%\")"
   ]
  },
  {
   "cell_type": "code",
   "execution_count": null,
   "metadata": {},
   "outputs": [],
   "source": []
  }
 ],
 "metadata": {
  "kernelspec": {
   "display_name": "base",
   "language": "python",
   "name": "python3"
  },
  "language_info": {
   "codemirror_mode": {
    "name": "ipython",
    "version": 3
   },
   "file_extension": ".py",
   "mimetype": "text/x-python",
   "name": "python",
   "nbconvert_exporter": "python",
   "pygments_lexer": "ipython3",
   "version": "3.11.7"
  }
 },
 "nbformat": 4,
 "nbformat_minor": 2
}
