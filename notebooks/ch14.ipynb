{
 "cells": [
  {
   "cell_type": "markdown",
   "metadata": {},
   "source": [
    "# 14章　決定木とフォレスト \n",
    "## レシピ14.1　決定木を用いたクラス分類器の訓練 \n"
   ]
  },
  {
   "cell_type": "code",
   "execution_count": null,
   "metadata": {},
   "outputs": [],
   "source": [
    "# ライブラリをロード\n",
    "from sklearn.tree import DecisionTreeClassifier\n",
    "from sklearn import datasets\n",
    "\n",
    "# データをロード\n",
    "iris = datasets.load_iris()\n",
    "features = iris.data\n",
    "target = iris.target\n",
    "\n",
    "# 決定木クラス分類器オブジェクトを作成\n",
    "decisiontree = DecisionTreeClassifier(random_state=0)\n",
    "\n",
    "# 決定木クラス分類器を訓練\n",
    "model = decisiontree.fit(features, target)"
   ]
  },
  {
   "cell_type": "code",
   "execution_count": null,
   "metadata": {},
   "outputs": [],
   "source": [
    "# 新しい観測値を作成\n",
    "observation = [[ 5, 4, 3, 2]]\n",
    "\n",
    "# 観測値のクラスを予測\n",
    "model.predict(observation)"
   ]
  },
  {
   "cell_type": "code",
   "execution_count": null,
   "metadata": {},
   "outputs": [],
   "source": [
    "# 3つのクラスに対する予測クラス確率を表示\n",
    "model.predict_proba(observation)"
   ]
  },
  {
   "cell_type": "code",
   "execution_count": null,
   "metadata": {},
   "outputs": [],
   "source": [
    "# エントロピーを用いる決定木クラス分類器オブジェクトを作成\n",
    "decisiontree_entropy = DecisionTreeClassifier(\n",
    "    criterion='entropy', random_state=0)\n",
    "\n",
    "# 決定木クラス分類器を訓練\n",
    "model_entropy = decisiontree_entropy.fit(features, target)\n"
   ]
  },
  {
   "cell_type": "markdown",
   "metadata": {},
   "source": [
    "## レシピ14.2　決定木回帰器の訓練 \n"
   ]
  },
  {
   "cell_type": "code",
   "execution_count": null,
   "metadata": {},
   "outputs": [],
   "source": [
    "# ライブラリをロード\n",
    "from sklearn.tree import DecisionTreeRegressor\n",
    "from sklearn import datasets\n",
    "\n",
    "# 特徴量が2つだけのデータをロード\n",
    "diabetes = datasets.load_diabetes()\n",
    "features = diabetes.data\n",
    "target = diabetes.target\n",
    "\n",
    "# 決定木回帰器オブジェクトを作成\n",
    "decisiontree = DecisionTreeRegressor(random_state=0)\n",
    "\n",
    "# 決定木回帰器を訓練\n",
    "model = decisiontree.fit(features, target)\n",
    "\n",
    "# 新しい観測値の作成\n",
    "observation = [features[0]]\n",
    "\n",
    "# 観測値のターゲット値を予測\n",
    "model.predict(observation)"
   ]
  },
  {
   "cell_type": "code",
   "execution_count": null,
   "metadata": {},
   "outputs": [],
   "source": [
    "# MAE（平均絶対誤差）を用いる決定木回帰器オブジェクトを作成\n",
    "decisiontree_mae = DecisionTreeRegressor(criterion=\"absolute_error\",\n",
    "    random_state=0)\n",
    "\n",
    "# 決定木回帰器を訓練\n",
    "model_mae = decisiontree_mae.fit(features, target)"
   ]
  },
  {
   "cell_type": "markdown",
   "metadata": {},
   "source": [
    "## レシピ14.3　決定木モデルの可視化 \n"
   ]
  },
  {
   "cell_type": "code",
   "execution_count": null,
   "metadata": {},
   "outputs": [],
   "source": [
    "# ライブラリをロード\n",
    "import pydotplus\n",
    "from sklearn.tree import DecisionTreeClassifier\n",
    "from sklearn import datasets\n",
    "from IPython.display import Image\n",
    "from sklearn import tree\n",
    "\n",
    "# データをロード\n",
    "iris = datasets.load_iris()\n",
    "features = iris.data\n",
    "target = iris.target\n",
    "\n",
    "# 決定木回帰器オブジェクトを作成\n",
    "decisiontree = DecisionTreeClassifier(random_state=0)\n",
    "\n",
    "# 回帰器を訓練\n",
    "model = decisiontree.fit(features, target)\n",
    "\n",
    "# DOTフォーマットでデータを作成\n",
    "dot_data = tree.export_graphviz(decisiontree,\n",
    "                                out_file=None,\n",
    "                                feature_names=iris.feature_names,\n",
    "                                class_names=iris.target_names)\n",
    "\n",
    "# グラフを描画\n",
    "graph = pydotplus.graph_from_dot_data(dot_data)\n",
    "\n",
    "# グラフを表示\n",
    "Image(graph.create_png())"
   ]
  },
  {
   "cell_type": "code",
   "execution_count": null,
   "metadata": {},
   "outputs": [],
   "source": [
    "# PDFを作成\n",
    "graph.write_pdf(\"iris.pdf\")"
   ]
  },
  {
   "cell_type": "code",
   "execution_count": null,
   "metadata": {},
   "outputs": [],
   "source": [
    "# PNGを作成\n",
    "graph.write_png(\"iris.png\")"
   ]
  },
  {
   "cell_type": "markdown",
   "metadata": {},
   "source": [
    "## レシピ14.4　ランダムフォレストクラス分類器の訓練 \n"
   ]
  },
  {
   "cell_type": "code",
   "execution_count": null,
   "metadata": {},
   "outputs": [],
   "source": [
    "# ライブラリをロード\n",
    "from sklearn.ensemble import RandomForestClassifier\n",
    "from sklearn import datasets\n",
    "\n",
    "# データをロード\n",
    "iris = datasets.load_iris()\n",
    "features = iris.data\n",
    "target = iris.target\n",
    "\n",
    "# ランダムフォレストクラス分類器を作成\n",
    "randomforest = RandomForestClassifier(random_state=0, n_jobs=-1)\n",
    "\n",
    "# ランダムフォレストクラス分類器を訓練\n",
    "model = randomforest.fit(features, target)\n"
   ]
  },
  {
   "cell_type": "code",
   "execution_count": null,
   "metadata": {},
   "outputs": [],
   "source": [
    "# 新しい観測値を作成\n",
    "observation = [[ 5, 4, 3, 2]]\n",
    "\n",
    "# 観測値のクラスを予測\n",
    "model.predict(observation)"
   ]
  },
  {
   "cell_type": "code",
   "execution_count": null,
   "metadata": {},
   "outputs": [],
   "source": [
    "# エントロピーを用いるランダムフォレストクラス分類器オブジェクトを作成\n",
    "randomforest_entropy = RandomForestClassifier(\n",
    "criterion=\"entropy\", random_state=0)\n",
    "\n",
    "# クラス分類器を訓練\n",
    "model_entropy = randomforest_entropy.fit(features, target)"
   ]
  },
  {
   "cell_type": "markdown",
   "metadata": {},
   "source": [
    "## レシピ14.5　ランダムフォレスト回帰器の訓練 \n"
   ]
  },
  {
   "cell_type": "code",
   "execution_count": null,
   "metadata": {},
   "outputs": [],
   "source": [
    "# ライブラリをロード\n",
    "from sklearn.ensemble import RandomForestRegressor\n",
    "from sklearn import datasets\n",
    "\n",
    "# 特徴量が2つだけのデータをロード\n",
    "diabetes = datasets.load_diabetes()\n",
    "features = diabetes.data\n",
    "target = diabetes.target\n",
    "\n",
    "# ランダムフォレスト回帰器を作成\n",
    "randomforest = RandomForestRegressor(random_state=0, n_jobs=-1)\n",
    "\n",
    "# ランダムフォレスト回帰器を訓練\n",
    "model = randomforest.fit(features, target)"
   ]
  },
  {
   "cell_type": "markdown",
   "metadata": {},
   "source": [
    "## レシピ14.6　ランダムフォレストのOOBエラーによる評価 \n"
   ]
  },
  {
   "cell_type": "code",
   "execution_count": null,
   "metadata": {},
   "outputs": [],
   "source": [
    "# ライブラリをロード\n",
    "from sklearn.ensemble import RandomForestClassifier\n",
    "from sklearn import datasets\n",
    "\n",
    "# データをロード\n",
    "iris = datasets.load_iris()\n",
    "features = iris.data\n",
    "target = iris.target\n",
    "\n",
    "# ランダムフォレストクラス分類器を作成\n",
    "randomforest = RandomForestClassifier(\n",
    "random_state=0, n_estimators=1000, oob_score=True, n_jobs=-1)\n",
    "\n",
    "# ランダムフォレストクラス分類器を訓練\n",
    "model = randomforest.fit(features, target)\n",
    "\n",
    "# OOBエラーを表示\n",
    "randomforest.oob_score_"
   ]
  },
  {
   "cell_type": "markdown",
   "metadata": {},
   "source": [
    "## レシピ14.7　ランダムフォレストにおける重要な特徴量の特定 \n"
   ]
  },
  {
   "cell_type": "code",
   "execution_count": null,
   "metadata": {},
   "outputs": [],
   "source": [
    "# ライブラリをロード\n",
    "import numpy as np\n",
    "import matplotlib.pyplot as plt\n",
    "from sklearn.ensemble import RandomForestClassifier\n",
    "from sklearn import datasets\n",
    "\n",
    "# データをロード\n",
    "iris = datasets.load_iris()\n",
    "features = iris.data\n",
    "target = iris.target\n",
    "\n",
    "# ランダムフォレストクラス分類器を作成\n",
    "randomforest = RandomForestClassifier(random_state=0, n_jobs=-1)\n",
    "\n",
    "# ランダムフォレストクラス分類器を訓練\n",
    "model = randomforest.fit(features, target)\n",
    "\n",
    "# 特徴量重要性を計算\n",
    "importances = model.feature_importances_\n",
    "\n",
    "# 特徴量重要性を降順にソート\n",
    "indices = np.argsort(importances)[::-1]\n",
    "\n",
    "# 特徴量の名前を、ソートした順に並び替え\n",
    "names = [iris.feature_names[i] for i in indices]\n",
    "\n",
    "# プロットを作成\n",
    "plt.figure()\n",
    "\n",
    "# プロットのタイトルを作成\n",
    "plt.title(\"Feature Importance\")\n",
    "\n",
    "# 棒グラフを追加\n",
    "plt.bar(range(features.shape[1]), importances[indices])\n",
    "\n",
    "# x軸に特徴量の名前を追加\n",
    "plt.xticks(range(features.shape[1]), names, rotation=90)\n",
    "\n",
    "# プロットを表示\n",
    "plt.show()"
   ]
  },
  {
   "cell_type": "code",
   "execution_count": null,
   "metadata": {},
   "outputs": [],
   "source": [
    "# 特徴量重要度を表示\n",
    "model.feature_importances_"
   ]
  },
  {
   "cell_type": "markdown",
   "metadata": {},
   "source": [
    "## レシピ14.8　ランダムフォレストにおける重要な特徴量の選択 \n"
   ]
  },
  {
   "cell_type": "code",
   "execution_count": null,
   "metadata": {},
   "outputs": [],
   "source": [
    "# ライブラリをロード\n",
    "from sklearn.ensemble import RandomForestClassifier\n",
    "from sklearn import datasets\n",
    "from sklearn.feature_selection import SelectFromModel\n",
    "\n",
    "# データをロード\n",
    "iris = datasets.load_iris()\n",
    "features = iris.data\n",
    "target = iris.target\n",
    "\n",
    "# ランダムフォレストクラス分類器を作成\n",
    "randomforest = RandomForestClassifier(random_state=0, n_jobs=-1)\n",
    "\n",
    "# 重要度が閾値以上の特徴量だけを選択するオブジェクトを生成\n",
    "selector = SelectFromModel(randomforest, threshold=0.3)\n",
    "\n",
    "# 選択器を用いて新たな特徴量行列を作成\n",
    "features_important = selector.fit_transform(features, target)\n",
    "\n",
    "# 選択された重要度の高い特徴量を用いてランダムフォレストを訓練\n",
    "model = randomforest.fit(features_important, target)"
   ]
  },
  {
   "cell_type": "markdown",
   "metadata": {},
   "source": [
    "## レシピ14.9　不均等なクラスの処理"
   ]
  },
  {
   "cell_type": "code",
   "execution_count": null,
   "metadata": {},
   "outputs": [],
   "source": [
    "# ライブラリをロード\n",
    "import numpy as np\n",
    "from sklearn.ensemble import RandomForestClassifier\n",
    "from sklearn import datasets\n",
    "\n",
    "# データをロード\n",
    "iris = datasets.load_iris()\n",
    "features = iris.data\n",
    "target = iris.target\n",
    "\n",
    "# 最初の40観測値を削除して、クラスを不均等に\n",
    "features = features[40:,:]\n",
    "target = target[40:]\n",
    "\n",
    "# クラスが0なら0、それ以外なら1となるターゲットベクタを作成\n",
    "target = np.where((target == 0), 0, 1)\n",
    "\n",
    "# ランダムフォレストクラス分類器を作成\n",
    "randomforest = RandomForestClassifier(\n",
    "random_state=0, n_jobs=-1, class_weight=\"balanced\")\n",
    "\n",
    "# ランダムフォレストクラス分類器を訓練\n",
    "model = randomforest.fit(features, target)"
   ]
  },
  {
   "cell_type": "code",
   "execution_count": null,
   "metadata": {},
   "outputs": [],
   "source": [
    "# 観測値数の少ないクラスの重みを計算\n",
    "110/(2*10)"
   ]
  },
  {
   "cell_type": "code",
   "execution_count": null,
   "metadata": {},
   "outputs": [],
   "source": [
    "# 観測値数の多いクラスの重みを計算\n",
    "110/(2*100)"
   ]
  },
  {
   "cell_type": "markdown",
   "metadata": {},
   "source": [
    " \n",
    "## レシピ14.10　決定木サイズの制御 \n"
   ]
  },
  {
   "cell_type": "code",
   "execution_count": null,
   "metadata": {},
   "outputs": [],
   "source": [
    "# ライブラリをロード\n",
    "from sklearn.tree import DecisionTreeClassifier\n",
    "from sklearn import datasets\n",
    "\n",
    "# データをロード\n",
    "iris = datasets.load_iris()\n",
    "features = iris.data\n",
    "target = iris.target\n",
    "\n",
    "# 決定木クラス分類器を作成\n",
    "decisiontree = DecisionTreeClassifier(random_state=0,\n",
    "                                      max_depth=None,\n",
    "                                      min_samples_split=2,\n",
    "                                      min_samples_leaf=1,\n",
    "                                      min_weight_fraction_leaf=0,\n",
    "                                      max_leaf_nodes=None,\n",
    "                                      min_impurity_decrease=0)\n",
    "\n",
    "# 決定木クラス分類器を訓練\n",
    "model = decisiontree.fit(features, target)"
   ]
  },
  {
   "cell_type": "markdown",
   "metadata": {},
   "source": [
    "## レシピ14.11　ブースティングによる性能の向上 \n"
   ]
  },
  {
   "cell_type": "code",
   "execution_count": null,
   "metadata": {},
   "outputs": [],
   "source": [
    "# ライブラリをロード\n",
    "from sklearn.ensemble import AdaBoostClassifier\n",
    "from sklearn import datasets\n",
    "\n",
    "# データをロード\n",
    "iris = datasets.load_iris()\n",
    "features = iris.data\n",
    "target = iris.target\n",
    "\n",
    "# adaboost決定木クラス分類器を作成\n",
    "adaboost = AdaBoostClassifier(random_state=0)\n",
    "\n",
    "# adaboost決定木クラス分類器を訓練\n",
    "model = adaboost.fit(features, target)"
   ]
  },
  {
   "cell_type": "markdown",
   "metadata": {},
   "source": [
    "## レシピ14.12　XGBoostモデルの訓練 \n"
   ]
  },
  {
   "cell_type": "code",
   "execution_count": null,
   "metadata": {},
   "outputs": [],
   "source": [
    "# ライブラリをロード\n",
    "import xgboost as xgb\n",
    "from sklearn import datasets, preprocessing\n",
    "from sklearn.metrics import classification_report\n",
    "from numpy import argmax\n",
    "\n",
    "# データをロード\n",
    "iris = datasets.load_iris()\n",
    "features = iris.data\n",
    "target = iris.target\n",
    "\n",
    "# データセットを作成\n",
    "xgb_train = xgb.DMatrix(features, label=target)\n",
    "\n",
    "# パラメータを定義\n",
    "param = {\n",
    "    'objective': 'multi:softprob',\n",
    "    'num_class': 3\n",
    "}\n",
    "\n",
    "# モデルを訓練\n",
    "gbm = xgb.train(param, xgb_train)\n",
    "\n",
    "# 予測結果を取得\n",
    "predictions = argmax(gbm.predict(xgb_train), axis=1)\n",
    "\n",
    "# クラス分類レポートを取得\n",
    "print(classification_report(target, predictions))"
   ]
  },
  {
   "cell_type": "markdown",
   "metadata": {},
   "source": [
    "## レシピ14.13　LightGBMを用いたリアルタイム性能改善 \n"
   ]
  },
  {
   "cell_type": "code",
   "execution_count": null,
   "metadata": {},
   "outputs": [],
   "source": [
    "# ライブラリをロード\n",
    "import lightgbm as lgb\n",
    "from sklearn import datasets, preprocessing\n",
    "from sklearn.metrics import classification_report\n",
    "from numpy import argmax\n",
    "\n",
    "# データをロード\n",
    "iris = datasets.load_iris()\n",
    "features = iris.data\n",
    "target = iris.target\n",
    "\n",
    "# データセットを作成\n",
    "lgb_train = lgb.Dataset(features, target)\n",
    "\n",
    "# パラメータを定義\n",
    "params = {\n",
    "    'objective': 'multiclass',\n",
    "    'num_class': 3,\n",
    "    'verbose': -1,\n",
    "}\n",
    "\n",
    "# モデルを訓練\n",
    "gbm = lgb.train(params, lgb_train)\n",
    "\n",
    "# 予測結果を取得\n",
    "predictions = argmax(gbm.predict(features), axis=1)\n",
    "\n",
    "# クラス分類レポートを取得\n",
    "print(classification_report(target, predictions))\n"
   ]
  },
  {
   "cell_type": "code",
   "execution_count": null,
   "metadata": {},
   "outputs": [],
   "source": []
  }
 ],
 "metadata": {
  "kernelspec": {
   "display_name": "base",
   "language": "python",
   "name": "python3"
  },
  "language_info": {
   "codemirror_mode": {
    "name": "ipython",
    "version": 3
   },
   "file_extension": ".py",
   "mimetype": "text/x-python",
   "name": "python",
   "nbconvert_exporter": "python",
   "pygments_lexer": "ipython3",
   "version": "3.11.7"
  }
 },
 "nbformat": 4,
 "nbformat_minor": 2
}
