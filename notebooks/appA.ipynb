{
 "cells": [
  {
   "cell_type": "markdown",
   "metadata": {},
   "source": [
    "# 付録A　日本語テキストの取り扱い \n",
    "## レシピA.1　日本語のテキストのトークン分割 \n"
   ]
  },
  {
   "cell_type": "code",
   "execution_count": null,
   "metadata": {},
   "outputs": [],
   "source": [
    "# ライブラリをロード\n",
    "from janome.tokenizer import Tokenizer\n",
    "\n",
    "# テキストを作成\n",
    "text = \" 貴社の記者が汽車で帰社した。\"\n",
    "\n",
    "# トークン化器を作成\n",
    "t = Tokenizer()\n",
    "\n",
    "# トークン化\n",
    "tokens = list(t.tokenize(text))\n",
    "\n",
    "for t in tokens:\n",
    "    print(t)"
   ]
  },
  {
   "cell_type": "code",
   "execution_count": null,
   "metadata": {},
   "outputs": [],
   "source": [
    "# 表層形を表示\n",
    "[token.surface for token in tokens]"
   ]
  },
  {
   "cell_type": "code",
   "execution_count": null,
   "metadata": {},
   "outputs": [],
   "source": [
    "# 基本形を表示\n",
    "[token.base_form for token in tokens]"
   ]
  },
  {
   "cell_type": "markdown",
   "metadata": {},
   "source": [
    "## レシピA.2　日本語テキストに対するBoW特徴量 \n"
   ]
  },
  {
   "cell_type": "code",
   "execution_count": null,
   "metadata": {},
   "outputs": [],
   "source": [
    "# ライブラリをロード\n",
    "from janome.tokenizer import Tokenizer\n",
    "from sklearn.feature_extraction.text import CountVectorizer\n",
    "\n",
    "# テキストを作成\n",
    "texts = [\"蔵王は、山形県と宮城県の県境にあります。\",\n",
    "         \"山形県の月山は、7月までスキーができるそうです。\",\n",
    "         \"宮城県の松島は日本三景の一つです。\"]\n",
    "\n",
    "# トークン化器を作成\n",
    "t = Tokenizer()\n",
    "\n",
    "# 文字列をトークン列に変換し、\n",
    "# トークン列から不要な品詞のトークンを省き\n",
    "# 基本形の列を返す関数を定義\n",
    "def japanese_tokenize(text):\n",
    "    tokens = t.tokenize(text)\n",
    "    return [token.base_form for token in tokens\n",
    "        if not token.part_of_speech.split(',')[0] in ['助詞','助動詞','記号','接頭詞']]\n",
    "\n",
    "# BoW 特徴量行列を作成\n",
    "count = CountVectorizer(analyzer=japanese_tokenize)\n",
    "bag_of_words = count.fit_transform(texts)\n",
    "\n",
    "# 特徴量行列を表示\n",
    "bag_of_words"
   ]
  },
  {
   "cell_type": "code",
   "execution_count": null,
   "metadata": {},
   "outputs": [],
   "source": [
    "bag_of_words.toarray()"
   ]
  },
  {
   "cell_type": "code",
   "execution_count": null,
   "metadata": {},
   "outputs": [],
   "source": [
    "count.get_feature_names_out()"
   ]
  },
  {
   "cell_type": "code",
   "execution_count": null,
   "metadata": {},
   "outputs": [],
   "source": [
    "# ライブラリをロード\n",
    "from sklearn.feature_extraction.text import TfidfVectorizer\n",
    "\n",
    "# tf-idf 特徴量行列を作成\n",
    "tfidf = TfidfVectorizer(analyzer=japanese_tokenize)\n",
    "feature_matrix = tfidf.fit_transform(texts)\n",
    "\n",
    "# tf-idf 特徴量行列を密行列で表示\n",
    "feature_matrix.toarray()"
   ]
  },
  {
   "cell_type": "code",
   "execution_count": null,
   "metadata": {},
   "outputs": [],
   "source": []
  }
 ],
 "metadata": {
  "kernelspec": {
   "display_name": "base",
   "language": "python",
   "name": "python3"
  },
  "language_info": {
   "codemirror_mode": {
    "name": "ipython",
    "version": 3
   },
   "file_extension": ".py",
   "mimetype": "text/x-python",
   "name": "python",
   "nbconvert_exporter": "python",
   "pygments_lexer": "ipython3",
   "version": "3.11.7"
  }
 },
 "nbformat": 4,
 "nbformat_minor": 2
}
